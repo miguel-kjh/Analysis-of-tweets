{
  "nbformat": 4,
  "nbformat_minor": 0,
  "metadata": {
    "colab": {
      "name": "tweets_preparing.ipynb",
      "provenance": [],
      "authorship_tag": "ABX9TyMEpNGl6P9FIkHPTIL3+4X2",
      "include_colab_link": true
    },
    "kernelspec": {
      "name": "python3",
      "display_name": "Python 3"
    },
    "accelerator": "GPU"
  },
  "cells": [
    {
      "cell_type": "markdown",
      "metadata": {
        "id": "view-in-github",
        "colab_type": "text"
      },
      "source": [
        "<a href=\"https://colab.research.google.com/github/miguel-kjh/Analysis-of-tweets/blob/main/tweets_preparing.ipynb\" target=\"_parent\"><img src=\"https://colab.research.google.com/assets/colab-badge.svg\" alt=\"Open In Colab\"/></a>"
      ]
    },
    {
      "cell_type": "markdown",
      "metadata": {
        "id": "XQmOxwHwKkDT"
      },
      "source": [
        "# Data preparation \n",
        "\n",
        "This script focuses on data preparation. Our data set is about tweets posted about a Spanish airline. What interests us to carry out the sentimineot analysis are simply the tweets and their category."
      ]
    },
    {
      "cell_type": "code",
      "metadata": {
        "id": "xOajCO6BhKvG",
        "colab": {
          "base_uri": "https://localhost:8080/"
        },
        "outputId": "5610b990-f311-4402-c14b-f55a1e736ad8"
      },
      "source": [
        "import pandas as pd\n",
        "import seaborn as sns\n",
        "import matplotlib.pyplot as plt\n",
        "import re\n",
        "import random\n",
        "import string\n",
        "\n",
        "import nltk\n",
        "nltk.download('stopwords')\n",
        "nltk.download('punkt')\n",
        "from nltk.corpus import stopwords\n"
      ],
      "execution_count": null,
      "outputs": [
        {
          "output_type": "stream",
          "text": [
            "[nltk_data] Downloading package stopwords to /root/nltk_data...\n",
            "[nltk_data]   Unzipping corpora/stopwords.zip.\n",
            "[nltk_data] Downloading package punkt to /root/nltk_data...\n",
            "[nltk_data]   Unzipping tokenizers/punkt.zip.\n"
          ],
          "name": "stdout"
        }
      ]
    },
    {
      "cell_type": "code",
      "metadata": {
        "id": "SChKj5h7fpry",
        "colab": {
          "base_uri": "https://localhost:8080/"
        },
        "outputId": "288f5d83-f9cf-4116-8839-073051241649"
      },
      "source": [
        "from google.colab import drive\n",
        "drive.mount('/content/drive')"
      ],
      "execution_count": null,
      "outputs": [
        {
          "output_type": "stream",
          "text": [
            "Mounted at /content/drive\n"
          ],
          "name": "stdout"
        }
      ]
    },
    {
      "cell_type": "code",
      "metadata": {
        "id": "Z1BxKJnRhXhS",
        "colab": {
          "base_uri": "https://localhost:8080/"
        },
        "outputId": "6d8a84b7-4585-4611-c6d1-7f3b5bdef5c4"
      },
      "source": [
        "data_dir = '/content/drive/My Drive/SIANI Master/CI/Práctica/spanish-arilines-tweets-sentiment-analysis'\n",
        "!ls '/content/drive/My Drive/SIANI Master/CI/Práctica/spanish-arilines-tweets-sentiment-analysis'"
      ],
      "execution_count": null,
      "outputs": [
        {
          "output_type": "stream",
          "text": [
            "baseline.ipynb\t      train_data_un.csv   tweets_submission.csv\n",
            "sampleSubmission.csv  tweets_public.csv   val_data_un.csv\n",
            "test_data_un.csv      tweets_public.xlsx\n"
          ],
          "name": "stdout"
        }
      ]
    },
    {
      "cell_type": "code",
      "metadata": {
        "id": "X_LG2MwpiFzr",
        "colab": {
          "base_uri": "https://localhost:8080/"
        },
        "outputId": "78a726ec-25cd-4512-ae32-e9a1414e7632"
      },
      "source": [
        "tweet_df = pd.read_csv(\"%s/tweets_public.csv\" %data_dir, encoding='utf-8', index_col='tweet_id')\n",
        "tweet_df.info()"
      ],
      "execution_count": null,
      "outputs": [
        {
          "output_type": "stream",
          "text": [
            "<class 'pandas.core.frame.DataFrame'>\n",
            "Int64Index: 7867 entries, 926419989107798016 to 935546571663527936\n",
            "Data columns (total 9 columns):\n",
            " #   Column             Non-Null Count  Dtype \n",
            "---  ------             --------------  ----- \n",
            " 0   airline_sentiment  7867 non-null   object\n",
            " 1   is_reply           7867 non-null   bool  \n",
            " 2   reply_count        7867 non-null   int64 \n",
            " 3   retweet_count      7867 non-null   int64 \n",
            " 4   text               7867 non-null   object\n",
            " 5   tweet_coord        20 non-null     object\n",
            " 6   tweet_created      7867 non-null   object\n",
            " 7   tweet_location     419 non-null    object\n",
            " 8   user_timezone      5100 non-null   object\n",
            "dtypes: bool(1), int64(2), object(6)\n",
            "memory usage: 560.8+ KB\n"
          ],
          "name": "stdout"
        }
      ]
    },
    {
      "cell_type": "markdown",
      "metadata": {
        "id": "LJvbrOUMLUrG"
      },
      "source": [
        "The next cell shows all the transformations to be performed on the texts and operations to store the data in CSV format "
      ]
    },
    {
      "cell_type": "code",
      "metadata": {
        "id": "ReynqlE3cV3v"
      },
      "source": [
        "def transforms_lables(label):\n",
        "  if (label == 'negative'):\n",
        "    return 0\n",
        "  if (label == 'neutral'):\n",
        "    return 1\n",
        "  if (label == 'positive'):\n",
        "    return 2\n",
        "\n",
        "def processing_tweet(tweet: str) -> str:\n",
        "  tweet = re.sub(r'https?://\\S+|www\\.\\S+', r'', tweet) # remove URLS\n",
        "  tweet = re.sub(r\"[^\\w\\s\\d]\",\"\", tweet) # remove pnctuations\n",
        "  tweet = re.sub(r'@\\w+','', tweet) # remove mentions\n",
        "  tweet = re.sub(r'#\\w+','', tweet) # remove hash\n",
        "  tweet = re.sub(r\"\\s+\",\" \", tweet).strip() # remove space\n",
        "  tweet = re.sub(\"\\S*\\d\\S*\", \"\", tweet).strip()\n",
        "  tweet = ' '.join([letter for letter in nltk.word_tokenize(tweet) \n",
        "                   if letter not in stopwords.words('spanish')]) # deleted stop words\n",
        "  return tweet.lower()\n",
        "\n",
        "\n",
        "def processing_tweets(tweets: list) -> list:\n",
        "  return [ processing_tweet(sentance) for sentance in tweets]\n",
        "\n",
        "class tweet:\n",
        "  def __init__(self, comment: str, sentiment: int):\n",
        "    self.comment   = comment\n",
        "    self.sentiment = sentiment\n",
        "\n",
        "  def getListAttribute(self) -> list:\n",
        "    return [self.comment, self.sentiment]\n",
        "\n",
        "def save_in_csv(data: list, name: str) -> None:\n",
        "  df = pd.DataFrame([ sample.getListAttribute() for sample in data])\n",
        "  df.columns = ['quote', 'score']\n",
        "  df.to_csv(name,index = False)"
      ],
      "execution_count": null,
      "outputs": []
    },
    {
      "cell_type": "markdown",
      "metadata": {
        "id": "yq6CF8zAjYyI"
      },
      "source": [
        "The dataset has been analyzed, as it is quite badly balanced, two data sets have been created to test the behavior of the models with them, one unbalanced and the other balanced."
      ]
    },
    {
      "cell_type": "markdown",
      "metadata": {
        "id": "vjTolzpIZE3C"
      },
      "source": [
        "## UnBalanced"
      ]
    },
    {
      "cell_type": "code",
      "metadata": {
        "id": "WT4MvAP3io03"
      },
      "source": [
        "TWEETS = list(tweet_df[\"text\"])\n",
        "sentiments = list(map(lambda x: transforms_lables(x),tweet_df[\"airline_sentiment\"]))"
      ],
      "execution_count": null,
      "outputs": []
    },
    {
      "cell_type": "code",
      "metadata": {
        "colab": {
          "base_uri": "https://localhost:8080/"
        },
        "id": "BQXpvRAGg48p",
        "outputId": "2352724d-6e6a-4989-c7a6-d3544c90d6cc"
      },
      "source": [
        "print(TWEETS[0])\n",
        "print(sentiments[0])"
      ],
      "execution_count": null,
      "outputs": [
        {
          "output_type": "stream",
          "text": [
            "Trabajar en #Ryanair como #TMA: https://t.co/ruUArBe1tO #empleo\n",
            "1\n"
          ],
          "name": "stdout"
        }
      ]
    },
    {
      "cell_type": "code",
      "metadata": {
        "id": "PJzCTxSfkp6M",
        "colab": {
          "base_uri": "https://localhost:8080/",
          "height": 297
        },
        "outputId": "af596fc9-d68a-4b0a-89c5-54a72249362e"
      },
      "source": [
        "sns.countplot(x = 'airline_sentiment', data = tweet_df)"
      ],
      "execution_count": null,
      "outputs": [
        {
          "output_type": "execute_result",
          "data": {
            "text/plain": [
              "<matplotlib.axes._subplots.AxesSubplot at 0x7f0b93a4c978>"
            ]
          },
          "metadata": {
            "tags": []
          },
          "execution_count": 9
        },
        {
          "output_type": "display_data",
          "data": {
            "image/png": "[encoded data removed]",
            "text/plain": [
              "<Figure size 432x288 with 1 Axes>"
            ]
          },
          "metadata": {
            "tags": [],
            "needs_background": "light"
          }
        }
      ]
    },
    {
      "cell_type": "code",
      "metadata": {
        "colab": {
          "base_uri": "https://localhost:8080/"
        },
        "id": "5w9zlDQqGcdF",
        "outputId": "b9885633-3231-43cf-d0a0-806953f1270a"
      },
      "source": [
        "data = [tweet(comment, sentiment) for comment, sentiment in zip(processing_tweets(TWEETS), sentiments)]\n",
        "for i in range(1,10):\n",
        "  print(data[i].comment)"
      ],
      "execution_count": null,
      "outputs": [
        {
          "output_type": "stream",
          "text": [
            "iberia fionaferrer cuando gusten cancún viaja disfruta manera igual\n",
            "sabiais iberia trata bien santiago chilete cambia asientote manda volar wc traseroe\n",
            "nunca nunca nunca pidáis café ryanair bueno vendan bordo\n",
            "cris_tortu dakar iberia mitsubishi_es bfgoodricheu burgostur astintlogistics uremovil karbium muchos éxito\n",
            "wow bonito solo volado unas veces iberia siempre tierra\n",
            "iberia plus cumple años queremos celebrarlo contigo manera especial elige número favorito\n",
            "barómetro business iberia vueling compañías aéreas utilizadas viajes\n",
            "iberia felicitaciones iberia\n",
            "cbellolio iberia nuevopudahuel chuata madrid stgo par semanas habrá cruzar dedos\n"
          ],
          "name": "stdout"
        }
      ]
    },
    {
      "cell_type": "code",
      "metadata": {
        "colab": {
          "base_uri": "https://localhost:8080/"
        },
        "id": "lipQMB8psR49",
        "outputId": "e022dac1-9f44-4745-94e8-e1712a151c2e"
      },
      "source": [
        "random.shuffle(data)\n",
        "\n",
        "split     = round(len(data)*0.70)\n",
        "increment = round(len(data)*0.20)\n",
        "\n",
        "train_data, val_data, test_data = data[:split],data[split:split+increment],data[split+increment:]\n",
        "\n",
        "print(len(train_data))\n",
        "print(len(val_data))\n",
        "print(len(test_data))"
      ],
      "execution_count": null,
      "outputs": [
        {
          "output_type": "stream",
          "text": [
            "5507\n",
            "1573\n",
            "787\n"
          ],
          "name": "stdout"
        }
      ]
    },
    {
      "cell_type": "code",
      "metadata": {
        "id": "2N_M6L7tAvjN"
      },
      "source": [
        "save_in_csv(train_data, \"%s/train_data_un.csv\" %data_dir)\n",
        "save_in_csv(test_data,  \"%s/test_data_un.csv\"  %data_dir)\n",
        "save_in_csv(val_data,   \"%s/val_data_un.csv\"   %data_dir)"
      ],
      "execution_count": null,
      "outputs": []
    },
    {
      "cell_type": "markdown",
      "metadata": {
        "id": "xaMtVep_ZM7B"
      },
      "source": [
        "## Balanced"
      ]
    },
    {
      "cell_type": "code",
      "metadata": {
        "colab": {
          "base_uri": "https://localhost:8080/"
        },
        "id": "AhMqZjciaZ13",
        "outputId": "96ceb675-4e67-4994-bf97-13ab35579d37"
      },
      "source": [
        "tweet_df = pd.read_csv(\"%s/tweets_public.csv\" %data_dir, encoding='utf-8', index_col='tweet_id')\n",
        "tweet_df = pd.DataFrame([tweet_df['text'], tweet_df['airline_sentiment']]).transpose()\n",
        "tweet_df.info()"
      ],
      "execution_count": null,
      "outputs": [
        {
          "output_type": "stream",
          "text": [
            "<class 'pandas.core.frame.DataFrame'>\n",
            "Int64Index: 7867 entries, 926419989107798016 to 935546571663527936\n",
            "Data columns (total 2 columns):\n",
            " #   Column             Non-Null Count  Dtype \n",
            "---  ------             --------------  ----- \n",
            " 0   text               7867 non-null   object\n",
            " 1   airline_sentiment  7867 non-null   object\n",
            "dtypes: object(2)\n",
            "memory usage: 504.4+ KB\n"
          ],
          "name": "stdout"
        }
      ]
    },
    {
      "cell_type": "code",
      "metadata": {
        "colab": {
          "base_uri": "https://localhost:8080/",
          "height": 297
        },
        "id": "atZC0_g8ZMRD",
        "outputId": "648a78f7-4f63-4b6a-87d9-0db865d25cea"
      },
      "source": [
        "tweet_df = tweet_df.groupby('airline_sentiment')\n",
        "tweet_df = pd.DataFrame(tweet_df.apply(\n",
        "    lambda x: tweet_df.sample(tweet_df.size().min()).reset_index(drop=True)\n",
        "    )\n",
        ")\n",
        "\n",
        "sns.countplot(x = 'airline_sentiment', data = tweet_df)"
      ],
      "execution_count": null,
      "outputs": [
        {
          "output_type": "execute_result",
          "data": {
            "text/plain": [
              "<matplotlib.axes._subplots.AxesSubplot at 0x7f51f56776d8>"
            ]
          },
          "metadata": {
            "tags": []
          },
          "execution_count": 21
        },
        {
          "output_type": "display_data",
          "data": {
            "image/png": "[encoded data removed]",
            "text/plain": [
              "<Figure size 432x288 with 1 Axes>"
            ]
          },
          "metadata": {
            "tags": [],
            "needs_background": "light"
          }
        }
      ]
    },
    {
      "cell_type": "code",
      "metadata": {
        "id": "j5C00ppPcPJq"
      },
      "source": [
        "TWEETS = list(tweet_df[\"text\"])\n",
        "sentiments = list(map(lambda x: transforms_lables(x),tweet_df[\"airline_sentiment\"]))"
      ],
      "execution_count": null,
      "outputs": []
    },
    {
      "cell_type": "code",
      "metadata": {
        "colab": {
          "base_uri": "https://localhost:8080/"
        },
        "id": "9hqUMD9gckSY",
        "outputId": "5c01cbce-73fa-42fc-fc1c-395beb0fd80a"
      },
      "source": [
        "data = [tweet(comment, sentiment) for comment, sentiment in zip(processing_tweets(TWEETS), sentiments)]\n",
        "for i in range(1,10):\n",
        "  print(data[i].comment)"
      ],
      "execution_count": null,
      "outputs": [
        {
          "output_type": "stream",
          "text": [
            "oleada huelgas ryanair navidades\n",
            "sociedad los pilotos ryanair irlanda desconvocan huelga horas la aerolínea reconocerá sind\n",
            "con iberia destino solo click deseadme suerte holacolombia hola destinos europeos mejor precio\n",
            "jhonatanrval avianca iberia ole sevan robar maleta pacora restrepo avianca iberia ve aca colom\n",
            "ryanair pilotos italia si huelga sanción vivan derechos\n",
            "colocolo grandes problemas equipos surtemuco udeconce iberia rematar tocan últi\n",
            "ryanair afronta primera huelga pilotos historia\n",
            "iberia masterchef_es increiblemente malo servicio atención cliente iberia recuperen ya valijas d\n",
            "iberia además hojas reclamación avión preceptivo absolutamente inaceptable comportamiento\n"
          ],
          "name": "stdout"
        }
      ]
    },
    {
      "cell_type": "code",
      "metadata": {
        "colab": {
          "base_uri": "https://localhost:8080/"
        },
        "id": "bxQv7_yncw0J",
        "outputId": "41c288b2-6759-40d0-8e5d-b5f495bc2bb4"
      },
      "source": [
        "random.shuffle(data)\n",
        "\n",
        "split     = round(len(data)*0.70)\n",
        "increment = round(len(data)*0.20)\n",
        "\n",
        "train_data, val_data, test_data = data[:split],data[split:split+increment],data[split+increment:]\n",
        "\n",
        "print(len(train_data))\n",
        "print(len(val_data))\n",
        "print(len(test_data))"
      ],
      "execution_count": null,
      "outputs": [
        {
          "output_type": "stream",
          "text": [
            "9381\n",
            "2680\n",
            "1340\n"
          ],
          "name": "stdout"
        }
      ]
    },
    {
      "cell_type": "code",
      "metadata": {
        "id": "uxO67vZNcy83"
      },
      "source": [
        "save_in_csv(train_data, \"%s/train_data_ba.csv\" %data_dir)\n",
        "save_in_csv(test_data,  \"%s/test_data_ba.csv\"  %data_dir)\n",
        "save_in_csv(val_data,   \"%s/val_data_ba.csv\"   %data_dir)"
      ],
      "execution_count": null,
      "outputs": []
    }
  ]
}