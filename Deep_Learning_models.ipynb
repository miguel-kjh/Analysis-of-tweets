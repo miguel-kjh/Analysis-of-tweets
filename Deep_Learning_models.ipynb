{
  "nbformat": 4,
  "nbformat_minor": 0,
  "metadata": {
    "colab": {
      "name": "Deep_Learning_models.ipynb",
      "provenance": [],
      "collapsed_sections": [],
      "authorship_tag": "ABX9TyPqSLi+FbYatEcWDr8Iw3DK",
      "include_colab_link": true
    },
    "kernelspec": {
      "name": "python3",
      "display_name": "Python 3"
    },
    "accelerator": "GPU"
  },
  "cells": [
    {
      "cell_type": "markdown",
      "metadata": {
        "id": "view-in-github",
        "colab_type": "text"
      },
      "source": [
        "<a href=\"https://colab.research.google.com/github/miguel-kjh/Analysis-of-tweets/blob/main/Deep_Learning_models.ipynb\" target=\"_parent\"><img src=\"https://colab.research.google.com/assets/colab-badge.svg\" alt=\"Open In Colab\"/></a>"
      ]
    },
    {
      "cell_type": "markdown",
      "metadata": {
        "id": "gLYomBiXwqUI"
      },
      "source": [
        "In this notebook we carry out the classification using an approach based on Deep Learning and word embedding, we use:\n",
        "\n",
        "- CNN with kernel = 1\n",
        "- Fast Sentiment\n",
        "- BETO + GRU: The BERT model trained for Spanish\n",
        "\n",
        "As metric we use the **f-score** and the **accuracy**.I have also used torchtext which allows you to load data from files and use pyTorch targets and iterators to facilitate training and validation. \n",
        "\n"
      ]
    },
    {
      "cell_type": "code",
      "metadata": {
        "id": "rjJ7gW9AuNAX"
      },
      "source": [
        "import torch\n",
        "\n",
        "import random\n",
        "import numpy as np\n",
        "\n",
        "import torchtext\n",
        "\n",
        "from torchtext import data\n",
        "import matplotlib.pyplot as plt\n",
        "from sklearn.metrics import classification_report\n"
      ],
      "execution_count": null,
      "outputs": []
    },
    {
      "cell_type": "code",
      "metadata": {
        "colab": {
          "base_uri": "https://localhost:8080/"
        },
        "id": "2Zu7YX83ue3J",
        "outputId": "80fff6f8-0a6d-47b6-dd36-bb4a45944618"
      },
      "source": [
        "!pip install transformers"
      ],
      "execution_count": null,
      "outputs": [
        {
          "output_type": "stream",
          "text": [
            "Collecting transformers\n",
            "\u001b[?25l  Downloading https://files.pythonhosted.org/packages/50/0c/7d5950fcd80b029be0a8891727ba21e0cd27692c407c51261c3c921f6da3/transformers-4.1.1-py3-none-any.whl (1.5MB)\n",
            "\u001b[K     |████████████████████████████████| 1.5MB 9.1MB/s \n",
            "\u001b[?25hRequirement already satisfied: requests in /usr/local/lib/python3.6/dist-packages (from transformers) (2.23.0)\n",
            "Requirement already satisfied: numpy in /usr/local/lib/python3.6/dist-packages (from transformers) (1.19.4)\n",
            "Collecting tokenizers==0.9.4\n",
            "\u001b[?25l  Downloading https://files.pythonhosted.org/packages/0f/1c/e789a8b12e28be5bc1ce2156cf87cb522b379be9cadc7ad8091a4cc107c4/tokenizers-0.9.4-cp36-cp36m-manylinux2010_x86_64.whl (2.9MB)\n",
            "\u001b[K     |████████████████████████████████| 2.9MB 35.1MB/s \n",
            "\u001b[?25hRequirement already satisfied: dataclasses; python_version < \"3.7\" in /usr/local/lib/python3.6/dist-packages (from transformers) (0.8)\n",
            "Requirement already satisfied: filelock in /usr/local/lib/python3.6/dist-packages (from transformers) (3.0.12)\n",
            "Requirement already satisfied: packaging in /usr/local/lib/python3.6/dist-packages (from transformers) (20.8)\n",
            "Requirement already satisfied: regex!=2019.12.17 in /usr/local/lib/python3.6/dist-packages (from transformers) (2019.12.20)\n",
            "Collecting sacremoses\n",
            "\u001b[?25l  Downloading https://files.pythonhosted.org/packages/7d/34/09d19aff26edcc8eb2a01bed8e98f13a1537005d31e95233fd48216eed10/sacremoses-0.0.43.tar.gz (883kB)\n",
            "\u001b[K     |████████████████████████████████| 890kB 29.4MB/s \n",
            "\u001b[?25hRequirement already satisfied: tqdm>=4.27 in /usr/local/lib/python3.6/dist-packages (from transformers) (4.41.1)\n",
            "Requirement already satisfied: idna<3,>=2.5 in /usr/local/lib/python3.6/dist-packages (from requests->transformers) (2.10)\n",
            "Requirement already satisfied: certifi>=2017.4.17 in /usr/local/lib/python3.6/dist-packages (from requests->transformers) (2020.12.5)\n",
            "Requirement already satisfied: chardet<4,>=3.0.2 in /usr/local/lib/python3.6/dist-packages (from requests->transformers) (3.0.4)\n",
            "Requirement already satisfied: urllib3!=1.25.0,!=1.25.1,<1.26,>=1.21.1 in /usr/local/lib/python3.6/dist-packages (from requests->transformers) (1.24.3)\n",
            "Requirement already satisfied: pyparsing>=2.0.2 in /usr/local/lib/python3.6/dist-packages (from packaging->transformers) (2.4.7)\n",
            "Requirement already satisfied: six in /usr/local/lib/python3.6/dist-packages (from sacremoses->transformers) (1.15.0)\n",
            "Requirement already satisfied: click in /usr/local/lib/python3.6/dist-packages (from sacremoses->transformers) (7.1.2)\n",
            "Requirement already satisfied: joblib in /usr/local/lib/python3.6/dist-packages (from sacremoses->transformers) (1.0.0)\n",
            "Building wheels for collected packages: sacremoses\n",
            "  Building wheel for sacremoses (setup.py) ... \u001b[?25l\u001b[?25hdone\n",
            "  Created wheel for sacremoses: filename=sacremoses-0.0.43-cp36-none-any.whl size=893261 sha256=814b137048f712e78aeba560f8b229529acc9161f687c2cd96a17bbafa0bac60\n",
            "  Stored in directory: /root/.cache/pip/wheels/29/3c/fd/7ce5c3f0666dab31a50123635e6fb5e19ceb42ce38d4e58f45\n",
            "Successfully built sacremoses\n",
            "Installing collected packages: tokenizers, sacremoses, transformers\n",
            "Successfully installed sacremoses-0.0.43 tokenizers-0.9.4 transformers-4.1.1\n"
          ],
          "name": "stdout"
        }
      ]
    },
    {
      "cell_type": "code",
      "metadata": {
        "colab": {
          "base_uri": "https://localhost:8080/"
        },
        "id": "wMxxSTjelaD-",
        "outputId": "ca386df0-7b21-4038-b914-b0cde223df35"
      },
      "source": [
        "device = torch.device('cuda' if torch.cuda.is_available() else 'cpu')\n",
        "print(device)"
      ],
      "execution_count": null,
      "outputs": [
        {
          "output_type": "stream",
          "text": [
            "cuda\n"
          ],
          "name": "stdout"
        }
      ]
    },
    {
      "cell_type": "code",
      "metadata": {
        "colab": {
          "base_uri": "https://localhost:8080/"
        },
        "id": "KFnG0ZRynyvS",
        "outputId": "e2b091ba-77a6-4db4-f609-8a50befc5fe1"
      },
      "source": [
        "from google.colab import drive\n",
        "drive.mount('/content/drive')\n",
        "\n",
        "data_dir = '/content/drive/My Drive/SIANI Master/CI/Práctica/spanish-arilines-tweets-sentiment-analysis'\n",
        "!ls '/content/drive/My Drive/SIANI Master/CI/Práctica/spanish-arilines-tweets-sentiment-analysis'"
      ],
      "execution_count": null,
      "outputs": [
        {
          "output_type": "stream",
          "text": [
            "Mounted at /content/drive\n",
            "baseline.ipynb\t      test_data_un.csv\t tweets_public.csv\tval_data_ba.csv\n",
            "sampleSubmission.csv  train_data_ba.csv  tweets_public.xlsx\tval_data_un.csv\n",
            "test_data_ba.csv      train_data_un.csv  tweets_submission.csv\n"
          ],
          "name": "stdout"
        }
      ]
    },
    {
      "cell_type": "markdown",
      "metadata": {
        "id": "b0QRuIvfxlKe"
      },
      "source": [
        "The following functions implement the logic necessary to calculate precision, train, and visualize data regarding the behavior of the model. "
      ]
    },
    {
      "cell_type": "code",
      "metadata": {
        "id": "cZe_X9kxla6K"
      },
      "source": [
        "def generatePlot(acc,val_acc, model_str):\n",
        "   \n",
        "  epochs = range(len(acc))\n",
        "   \n",
        "  plt.plot(epochs, acc, 'b', label='Training acc')\n",
        "  plt.plot(epochs, val_acc, 'r', label='Validation acc')\n",
        "  plt.title('Training and validation accuracy %s' % model_str)\n",
        "  plt.legend()\n",
        "   \n",
        "  plt.show()"
      ],
      "execution_count": null,
      "outputs": []
    },
    {
      "cell_type": "code",
      "metadata": {
        "id": "3xT8OLei4Ier"
      },
      "source": [
        "def categorical_accuracy(preds, y):\n",
        "    \"\"\"\n",
        "    Returns accuracy per batch, i.e. if you get 8/10 right, this returns 0.8, NOT 8\n",
        "    \"\"\"\n",
        "    max_preds = preds.argmax(dim = 1, keepdim = True) # get the index of the max probability\n",
        "    correct = max_preds.squeeze(1).eq(y)\n",
        "    return correct.sum() / torch.FloatTensor([y.shape[0]]).to(device)"
      ],
      "execution_count": null,
      "outputs": []
    },
    {
      "cell_type": "code",
      "metadata": {
        "id": "fNQSNbol4LLi"
      },
      "source": [
        "def train(model, iterator, optimizer, criterion):\n",
        "    \n",
        "    epoch_loss = 0\n",
        "    epoch_acc  = 0\n",
        "    \n",
        "    model.train()\n",
        "    \n",
        "    for batch in iterator:\n",
        "        \n",
        "        optimizer.zero_grad()\n",
        "        \n",
        "        predictions = model(batch.text).squeeze(1)\n",
        "        \n",
        "        loss = criterion(predictions, batch.label)\n",
        "        \n",
        "        acc = categorical_accuracy(predictions, batch.label)\n",
        "        \n",
        "        loss.backward()\n",
        "        \n",
        "        optimizer.step()\n",
        "        \n",
        "        epoch_loss += loss.item()\n",
        "        epoch_acc += acc.item()\n",
        "        \n",
        "    return epoch_loss / len(iterator), epoch_acc / len(iterator)\n",
        "\n",
        "def fit(model, name, N_EPOCHS = 50):\n",
        "  \n",
        "  best_valid_loss = float('inf')\n",
        "  train_list = []\n",
        "  valid_list = []\n",
        "\n",
        "  for epoch in range(N_EPOCHS):\n",
        "\n",
        "      start_time = time.time()\n",
        "      \n",
        "      train_loss, train_acc = train(model, train_iterator, optimizer, criterion)\n",
        "      valid_loss, valid_acc = evaluate(model, valid_iterator, criterion)\n",
        "      \n",
        "      end_time = time.time()\n",
        "\n",
        "      epoch_mins, epoch_secs = epoch_time(start_time, end_time)\n",
        "      \n",
        "      if valid_loss < best_valid_loss:\n",
        "          best_valid_loss = valid_loss\n",
        "          torch.save(model.state_dict(), name)\n",
        "\n",
        "      train_list.append(train_acc*100)\n",
        "      valid_list.append(valid_acc*100)\n",
        "      \n",
        "      print(f'Epoch: {epoch+1:02} | Epoch Time: {epoch_mins}m {epoch_secs}s')\n",
        "      print(f'\\tTrain Loss: {train_loss:.3f} | Train Acc: {train_acc*100:.2f}%')\n",
        "      print(f'\\t Val. Loss: {valid_loss:.3f} |  Val. Acc: {valid_acc*100:.2f}%')\n",
        "  \n",
        "  return train_list, valid_list"
      ],
      "execution_count": null,
      "outputs": []
    },
    {
      "cell_type": "code",
      "metadata": {
        "id": "FgtAumwi4OGk"
      },
      "source": [
        "def evaluate(model, iterator, criterion):\n",
        "    \n",
        "    epoch_loss = 0\n",
        "    epoch_acc = 0\n",
        "    \n",
        "    model.eval()\n",
        "    \n",
        "    with torch.no_grad():\n",
        "    \n",
        "        for batch in iterator:\n",
        "\n",
        "            predictions = model(batch.text).squeeze(1)\n",
        "            \n",
        "            loss = criterion(predictions, batch.label)\n",
        "            \n",
        "            acc = categorical_accuracy(predictions, batch.label)\n",
        "\n",
        "            epoch_loss += loss.item()\n",
        "            epoch_acc += acc.item()\n",
        "        \n",
        "    return epoch_loss / len(iterator), epoch_acc / len(iterator)\n",
        "\n",
        "def report(model, iterator):\n",
        "    \n",
        "    model.eval()\n",
        "    predict = []\n",
        "    Ytest   = []\n",
        "\n",
        "    with torch.no_grad():\n",
        "        for batch in iterator:\n",
        "          predictions = model(batch.text).squeeze(1)\n",
        "          max_preds = predictions.argmax(dim = 1, keepdim = True) # get the index of the max probability\n",
        "          correct  = max_preds.squeeze(1).eq(batch.label)\n",
        "          predict += max_preds.squeeze(1).tolist()\n",
        "          Ytest   += batch.label.tolist()\n",
        "\n",
        "    print(classification_report(Ytest, predict))\n"
      ],
      "execution_count": null,
      "outputs": []
    },
    {
      "cell_type": "code",
      "metadata": {
        "id": "iQtjgwo94RAC"
      },
      "source": [
        "import time\n",
        "\n",
        "def epoch_time(start_time, end_time):\n",
        "    elapsed_time = end_time - start_time\n",
        "    elapsed_mins = int(elapsed_time / 60)\n",
        "    elapsed_secs = int(elapsed_time - (elapsed_mins * 60))\n",
        "    return elapsed_mins, elapsed_secs"
      ],
      "execution_count": null,
      "outputs": []
    },
    {
      "cell_type": "markdown",
      "metadata": {
        "id": "R-crpxrOvtYm"
      },
      "source": [
        "## CNN\n",
        "\n",
        "- Kernel = 1\n",
        "- Tokenizer: SpaCy\n",
        "- Language model: Glove for Spanish"
      ]
    },
    {
      "cell_type": "code",
      "metadata": {
        "id": "VewtnW9Nvsh-"
      },
      "source": [
        "quote  = data.Field(tokenize = 'spacy')\n",
        "score  = data.LabelField()"
      ],
      "execution_count": null,
      "outputs": []
    },
    {
      "cell_type": "code",
      "metadata": {
        "colab": {
          "base_uri": "https://localhost:8080/"
        },
        "id": "mXj0HGu_xGzi",
        "outputId": "44385a6a-6722-477c-9d44-58c94b8ff115"
      },
      "source": [
        "fields = {'quote': ('text', quote), 'score': ('label', score)}\n",
        "\n",
        "train_data, valid_data, test_data = data.TabularDataset.splits(\n",
        "  path        =  data_dir,\n",
        "  train       = 'train_data_ba.csv',\n",
        "  validation  = 'val_data_ba.csv',\n",
        "  test        = 'test_data_ba.csv',\n",
        "  format      = 'csv',\n",
        "  fields      = fields\n",
        ")\n",
        "\n",
        "print(f\"Number of training examples:   {len(train_data)}\")\n",
        "print(f\"Number of validation examples: {len(valid_data)}\")\n",
        "print(f\"Number of testing examples:    {len(test_data)} \")"
      ],
      "execution_count": null,
      "outputs": [
        {
          "output_type": "stream",
          "text": [
            "Number of training examples:   9381\n",
            "Number of validation examples: 2680\n",
            "Number of testing examples:    1340 \n"
          ],
          "name": "stdout"
        }
      ]
    },
    {
      "cell_type": "code",
      "metadata": {
        "id": "GQ9NGGQPxaBV"
      },
      "source": [
        "MAX_VOCAB_SIZE = 25_000\n",
        "\n",
        "quote.build_vocab(train_data, \n",
        "                 max_size = MAX_VOCAB_SIZE, \n",
        "                 vectors  = \"glove.6B.100d\", \n",
        "                 unk_init = torch.Tensor.normal_)\n",
        "\n",
        "score.build_vocab(train_data)"
      ],
      "execution_count": null,
      "outputs": []
    },
    {
      "cell_type": "code",
      "metadata": {
        "colab": {
          "base_uri": "https://localhost:8080/"
        },
        "id": "xXSrsT6MzRyl",
        "outputId": "c62f4d76-9795-452c-8a7d-6e6024b151cc"
      },
      "source": [
        "print(score.vocab.stoi)"
      ],
      "execution_count": null,
      "outputs": [
        {
          "output_type": "stream",
          "text": [
            "defaultdict(<function _default_unk_index at 0x7f00e0a15ea0>, {'1': 0, '2': 1, '0': 2})\n"
          ],
          "name": "stdout"
        }
      ]
    },
    {
      "cell_type": "code",
      "metadata": {
        "id": "wgAYQzXxzU_I"
      },
      "source": [
        "BATCH_SIZE = 64\n",
        "\n",
        "device = torch.device('cuda' if torch.cuda.is_available() else 'cpu')\n",
        "\n",
        "train_iterator, valid_iterator, test_iterator = data.BucketIterator.splits(\n",
        "    (train_data, valid_data, test_data), \n",
        "    batch_size = BATCH_SIZE, \n",
        "    sort_key = lambda x: len(x.text),\n",
        "    sort_within_batch = True,\n",
        "    device = device)"
      ],
      "execution_count": null,
      "outputs": []
    },
    {
      "cell_type": "code",
      "metadata": {
        "id": "EqPasveyzZ8d"
      },
      "source": [
        "import torch.nn as nn\n",
        "import torch.nn.functional as F\n",
        "\n",
        "class CNN(nn.Module):\n",
        "    def __init__(self, vocab_size, embedding_dim, n_filters, filter_sizes, output_dim, \n",
        "                 dropout, pad_idx):\n",
        "        \n",
        "        super().__init__()\n",
        "        \n",
        "        self.embedding = nn.Embedding(vocab_size, embedding_dim)\n",
        "        \n",
        "        self.convs = nn.ModuleList([\n",
        "                                    nn.Conv2d(in_channels = 1, \n",
        "                                              out_channels = n_filters, \n",
        "                                              kernel_size = (fs, embedding_dim)) \n",
        "                                    for fs in filter_sizes\n",
        "                                    ])\n",
        "                \n",
        "        self.fc = nn.Linear(len(filter_sizes) * n_filters, output_dim)\n",
        "        \n",
        "        self.dropout = nn.Dropout(dropout)\n",
        "        \n",
        "    def forward(self, text):\n",
        "        \n",
        "        #text = [sent len, batch size]\n",
        "        \n",
        "        text = text.permute(1, 0)\n",
        "                \n",
        "        #text = [batch size, sent len]\n",
        "        \n",
        "        embedded = self.embedding(text)\n",
        "                \n",
        "        #embedded = [batch size, sent len, emb dim]\n",
        "        \n",
        "        embedded = embedded.unsqueeze(1)\n",
        "        \n",
        "        #embedded = [batch size, 1, sent len, emb dim]\n",
        "        \n",
        "        conved = [F.relu(conv(embedded)).squeeze(3) for conv in self.convs]\n",
        "            \n",
        "        #conv_n = [batch size, n_filters, sent len - filter_sizes[n]]\n",
        "        \n",
        "        pooled = [F.max_pool1d(conv, conv.shape[2]).squeeze(2) for conv in conved]\n",
        "        \n",
        "        #pooled_n = [batch size, n_filters]\n",
        "        \n",
        "        cat = self.dropout(torch.cat(pooled, dim = 1))\n",
        "\n",
        "        #cat = [batch size, n_filters * len(filter_sizes)]\n",
        "            \n",
        "        return self.fc(cat)"
      ],
      "execution_count": null,
      "outputs": []
    },
    {
      "cell_type": "markdown",
      "metadata": {
        "id": "T39KrkNcySFm"
      },
      "source": [
        "In this cell are the hyperparameters of the model "
      ]
    },
    {
      "cell_type": "code",
      "metadata": {
        "id": "hPFf8kZfzffO"
      },
      "source": [
        "INPUT_DIM = len(quote.vocab)\n",
        "EMBEDDING_DIM = 100\n",
        "N_FILTERS = 100\n",
        "FILTER_SIZES = [2,2,2]\n",
        "OUTPUT_DIM = len(score.vocab)\n",
        "DROPOUT = 0.5\n",
        "PAD_IDX = quote.vocab.stoi[quote.pad_token]\n",
        "\n",
        "model = CNN(INPUT_DIM, EMBEDDING_DIM, N_FILTERS, FILTER_SIZES, OUTPUT_DIM, DROPOUT, PAD_IDX)"
      ],
      "execution_count": null,
      "outputs": []
    },
    {
      "cell_type": "code",
      "metadata": {
        "colab": {
          "base_uri": "https://localhost:8080/"
        },
        "id": "gZ26-NXfzqne",
        "outputId": "192c0e5b-80b0-425f-9583-faee07a0d78e"
      },
      "source": [
        "def count_parameters(model):\n",
        "    return sum(p.numel() for p in model.parameters() if p.requires_grad)\n",
        "\n",
        "print(f'The model has {count_parameters(model):,} trainable parameters')"
      ],
      "execution_count": null,
      "outputs": [
        {
          "output_type": "stream",
          "text": [
            "The model has 1,198,603 trainable parameters\n"
          ],
          "name": "stdout"
        }
      ]
    },
    {
      "cell_type": "code",
      "metadata": {
        "id": "kwwSn4FUzw-O"
      },
      "source": [
        "pretrained_embeddings = quote.vocab.vectors\n",
        "\n",
        "model.embedding.weight.data.copy_(pretrained_embeddings)\n",
        "\n",
        "UNK_IDX = quote.vocab.stoi[quote.unk_token]\n",
        "\n",
        "model.embedding.weight.data[UNK_IDX] = torch.zeros(EMBEDDING_DIM)\n",
        "model.embedding.weight.data[PAD_IDX] = torch.zeros(EMBEDDING_DIM)"
      ],
      "execution_count": null,
      "outputs": []
    },
    {
      "cell_type": "code",
      "metadata": {
        "id": "Oz_w73Ctz6Qw"
      },
      "source": [
        "import torch.optim as optim\n",
        "\n",
        "optimizer = optim.Adam(model.parameters())\n",
        "\n",
        "criterion = nn.CrossEntropyLoss()\n",
        "\n",
        "model = model.to(device)\n",
        "criterion = criterion.to(device)"
      ],
      "execution_count": null,
      "outputs": []
    },
    {
      "cell_type": "code",
      "metadata": {
        "colab": {
          "base_uri": "https://localhost:8080/"
        },
        "id": "pgTxjFJGz-Jq",
        "outputId": "249ea431-6af6-40cf-dfd4-96477c0b245c"
      },
      "source": [
        "name_model = 'CNN-model.pt'\n",
        "train_list,valid_list = fit(model, name_model)"
      ],
      "execution_count": null,
      "outputs": [
        {
          "output_type": "stream",
          "text": [
            "Epoch: 01 | Epoch Time: 0m 0s\n",
            "\tTrain Loss: 1.054 | Train Acc: 43.49%\n",
            "\t Val. Loss: 0.945 |  Val. Acc: 56.16%\n",
            "Epoch: 02 | Epoch Time: 0m 0s\n",
            "\tTrain Loss: 0.896 | Train Acc: 58.05%\n",
            "\t Val. Loss: 0.850 |  Val. Acc: 62.02%\n",
            "Epoch: 03 | Epoch Time: 0m 0s\n",
            "\tTrain Loss: 0.764 | Train Acc: 66.56%\n",
            "\t Val. Loss: 0.768 |  Val. Acc: 67.23%\n",
            "Epoch: 04 | Epoch Time: 0m 0s\n",
            "\tTrain Loss: 0.658 | Train Acc: 73.29%\n",
            "\t Val. Loss: 0.727 |  Val. Acc: 70.59%\n",
            "Epoch: 05 | Epoch Time: 0m 0s\n",
            "\tTrain Loss: 0.569 | Train Acc: 77.81%\n",
            "\t Val. Loss: 0.652 |  Val. Acc: 73.33%\n",
            "Epoch: 06 | Epoch Time: 0m 0s\n",
            "\tTrain Loss: 0.473 | Train Acc: 81.85%\n",
            "\t Val. Loss: 0.594 |  Val. Acc: 75.63%\n",
            "Epoch: 07 | Epoch Time: 0m 0s\n",
            "\tTrain Loss: 0.430 | Train Acc: 83.59%\n",
            "\t Val. Loss: 0.605 |  Val. Acc: 76.56%\n",
            "Epoch: 08 | Epoch Time: 0m 0s\n",
            "\tTrain Loss: 0.380 | Train Acc: 85.92%\n",
            "\t Val. Loss: 0.549 |  Val. Acc: 77.56%\n",
            "Epoch: 09 | Epoch Time: 0m 0s\n",
            "\tTrain Loss: 0.325 | Train Acc: 87.37%\n",
            "\t Val. Loss: 0.552 |  Val. Acc: 77.94%\n",
            "Epoch: 10 | Epoch Time: 0m 0s\n",
            "\tTrain Loss: 0.290 | Train Acc: 88.69%\n",
            "\t Val. Loss: 0.544 |  Val. Acc: 79.42%\n",
            "Epoch: 11 | Epoch Time: 0m 0s\n",
            "\tTrain Loss: 0.275 | Train Acc: 89.22%\n",
            "\t Val. Loss: 0.550 |  Val. Acc: 79.24%\n",
            "Epoch: 12 | Epoch Time: 0m 0s\n",
            "\tTrain Loss: 0.264 | Train Acc: 89.72%\n",
            "\t Val. Loss: 0.537 |  Val. Acc: 79.76%\n",
            "Epoch: 13 | Epoch Time: 0m 0s\n",
            "\tTrain Loss: 0.245 | Train Acc: 90.49%\n",
            "\t Val. Loss: 0.558 |  Val. Acc: 78.76%\n",
            "Epoch: 14 | Epoch Time: 0m 0s\n",
            "\tTrain Loss: 0.228 | Train Acc: 90.77%\n",
            "\t Val. Loss: 0.579 |  Val. Acc: 79.24%\n",
            "Epoch: 15 | Epoch Time: 0m 0s\n",
            "\tTrain Loss: 0.218 | Train Acc: 91.16%\n",
            "\t Val. Loss: 0.562 |  Val. Acc: 80.43%\n",
            "Epoch: 16 | Epoch Time: 0m 0s\n",
            "\tTrain Loss: 0.212 | Train Acc: 90.95%\n",
            "\t Val. Loss: 0.569 |  Val. Acc: 79.87%\n",
            "Epoch: 17 | Epoch Time: 0m 0s\n",
            "\tTrain Loss: 0.207 | Train Acc: 91.21%\n",
            "\t Val. Loss: 0.562 |  Val. Acc: 79.99%\n",
            "Epoch: 18 | Epoch Time: 0m 0s\n",
            "\tTrain Loss: 0.196 | Train Acc: 91.55%\n",
            "\t Val. Loss: 0.577 |  Val. Acc: 80.99%\n",
            "Epoch: 19 | Epoch Time: 0m 0s\n",
            "\tTrain Loss: 0.188 | Train Acc: 91.96%\n",
            "\t Val. Loss: 0.595 |  Val. Acc: 80.13%\n",
            "Epoch: 20 | Epoch Time: 0m 0s\n",
            "\tTrain Loss: 0.195 | Train Acc: 91.61%\n",
            "\t Val. Loss: 0.603 |  Val. Acc: 80.51%\n",
            "Epoch: 21 | Epoch Time: 0m 0s\n",
            "\tTrain Loss: 0.189 | Train Acc: 91.58%\n",
            "\t Val. Loss: 0.592 |  Val. Acc: 80.28%\n",
            "Epoch: 22 | Epoch Time: 0m 0s\n",
            "\tTrain Loss: 0.181 | Train Acc: 92.17%\n",
            "\t Val. Loss: 0.604 |  Val. Acc: 80.65%\n",
            "Epoch: 23 | Epoch Time: 0m 0s\n",
            "\tTrain Loss: 0.180 | Train Acc: 92.08%\n",
            "\t Val. Loss: 0.604 |  Val. Acc: 81.32%\n",
            "Epoch: 24 | Epoch Time: 0m 0s\n",
            "\tTrain Loss: 0.178 | Train Acc: 91.95%\n",
            "\t Val. Loss: 0.618 |  Val. Acc: 80.73%\n",
            "Epoch: 25 | Epoch Time: 0m 0s\n",
            "\tTrain Loss: 0.173 | Train Acc: 92.17%\n",
            "\t Val. Loss: 0.623 |  Val. Acc: 80.82%\n",
            "Epoch: 26 | Epoch Time: 0m 0s\n",
            "\tTrain Loss: 0.175 | Train Acc: 92.16%\n",
            "\t Val. Loss: 0.640 |  Val. Acc: 80.67%\n",
            "Epoch: 27 | Epoch Time: 0m 0s\n",
            "\tTrain Loss: 0.167 | Train Acc: 92.49%\n",
            "\t Val. Loss: 0.625 |  Val. Acc: 81.53%\n",
            "Epoch: 28 | Epoch Time: 0m 0s\n",
            "\tTrain Loss: 0.172 | Train Acc: 91.91%\n",
            "\t Val. Loss: 0.631 |  Val. Acc: 80.38%\n",
            "Epoch: 29 | Epoch Time: 0m 0s\n",
            "\tTrain Loss: 0.169 | Train Acc: 92.14%\n",
            "\t Val. Loss: 0.646 |  Val. Acc: 79.63%\n",
            "Epoch: 30 | Epoch Time: 0m 0s\n",
            "\tTrain Loss: 0.165 | Train Acc: 92.61%\n",
            "\t Val. Loss: 0.643 |  Val. Acc: 80.75%\n",
            "Epoch: 31 | Epoch Time: 0m 0s\n",
            "\tTrain Loss: 0.163 | Train Acc: 92.41%\n",
            "\t Val. Loss: 0.649 |  Val. Acc: 80.42%\n",
            "Epoch: 32 | Epoch Time: 0m 0s\n",
            "\tTrain Loss: 0.169 | Train Acc: 92.09%\n",
            "\t Val. Loss: 0.665 |  Val. Acc: 80.71%\n",
            "Epoch: 33 | Epoch Time: 0m 0s\n",
            "\tTrain Loss: 0.155 | Train Acc: 92.55%\n",
            "\t Val. Loss: 0.672 |  Val. Acc: 80.71%\n",
            "Epoch: 34 | Epoch Time: 0m 0s\n",
            "\tTrain Loss: 0.155 | Train Acc: 92.57%\n",
            "\t Val. Loss: 0.674 |  Val. Acc: 80.48%\n",
            "Epoch: 35 | Epoch Time: 0m 0s\n",
            "\tTrain Loss: 0.159 | Train Acc: 92.51%\n",
            "\t Val. Loss: 0.682 |  Val. Acc: 80.22%\n",
            "Epoch: 36 | Epoch Time: 0m 0s\n",
            "\tTrain Loss: 0.156 | Train Acc: 92.58%\n",
            "\t Val. Loss: 0.686 |  Val. Acc: 80.34%\n",
            "Epoch: 37 | Epoch Time: 0m 0s\n",
            "\tTrain Loss: 0.156 | Train Acc: 92.67%\n",
            "\t Val. Loss: 0.672 |  Val. Acc: 80.82%\n",
            "Epoch: 38 | Epoch Time: 0m 0s\n",
            "\tTrain Loss: 0.157 | Train Acc: 92.56%\n",
            "\t Val. Loss: 0.672 |  Val. Acc: 80.59%\n",
            "Epoch: 39 | Epoch Time: 0m 0s\n",
            "\tTrain Loss: 0.159 | Train Acc: 92.22%\n",
            "\t Val. Loss: 0.671 |  Val. Acc: 80.86%\n",
            "Epoch: 40 | Epoch Time: 0m 0s\n",
            "\tTrain Loss: 0.151 | Train Acc: 92.78%\n",
            "\t Val. Loss: 0.665 |  Val. Acc: 81.23%\n",
            "Epoch: 41 | Epoch Time: 0m 0s\n",
            "\tTrain Loss: 0.147 | Train Acc: 92.78%\n",
            "\t Val. Loss: 0.670 |  Val. Acc: 80.75%\n",
            "Epoch: 42 | Epoch Time: 0m 0s\n",
            "\tTrain Loss: 0.151 | Train Acc: 92.37%\n",
            "\t Val. Loss: 0.683 |  Val. Acc: 81.27%\n",
            "Epoch: 43 | Epoch Time: 0m 0s\n",
            "\tTrain Loss: 0.150 | Train Acc: 92.69%\n",
            "\t Val. Loss: 0.688 |  Val. Acc: 81.30%\n",
            "Epoch: 44 | Epoch Time: 0m 0s\n",
            "\tTrain Loss: 0.151 | Train Acc: 92.60%\n",
            "\t Val. Loss: 0.714 |  Val. Acc: 80.11%\n",
            "Epoch: 45 | Epoch Time: 0m 0s\n",
            "\tTrain Loss: 0.149 | Train Acc: 92.74%\n",
            "\t Val. Loss: 0.692 |  Val. Acc: 80.74%\n",
            "Epoch: 46 | Epoch Time: 0m 0s\n",
            "\tTrain Loss: 0.150 | Train Acc: 92.40%\n",
            "\t Val. Loss: 0.687 |  Val. Acc: 81.15%\n",
            "Epoch: 47 | Epoch Time: 0m 0s\n",
            "\tTrain Loss: 0.147 | Train Acc: 92.69%\n",
            "\t Val. Loss: 0.709 |  Val. Acc: 80.11%\n",
            "Epoch: 48 | Epoch Time: 0m 0s\n",
            "\tTrain Loss: 0.148 | Train Acc: 92.55%\n",
            "\t Val. Loss: 0.696 |  Val. Acc: 80.89%\n",
            "Epoch: 49 | Epoch Time: 0m 0s\n",
            "\tTrain Loss: 0.149 | Train Acc: 92.36%\n",
            "\t Val. Loss: 0.700 |  Val. Acc: 80.63%\n",
            "Epoch: 50 | Epoch Time: 0m 0s\n",
            "\tTrain Loss: 0.146 | Train Acc: 92.73%\n",
            "\t Val. Loss: 0.707 |  Val. Acc: 80.53%\n"
          ],
          "name": "stdout"
        }
      ]
    },
    {
      "cell_type": "code",
      "metadata": {
        "colab": {
          "base_uri": "https://localhost:8080/"
        },
        "id": "3tLrN8uLHE48",
        "outputId": "dec8ee50-3e1a-4756-fa42-d2a7da6ee7f2"
      },
      "source": [
        "model.load_state_dict(torch.load(name_model))\n",
        "\n",
        "test_loss, test_acc = evaluate(model, test_iterator, criterion)\n",
        "\n",
        "print(f'Test Loss: {test_loss:.3f} | Test Acc: {test_acc*100:.2f}%')"
      ],
      "execution_count": null,
      "outputs": [
        {
          "output_type": "stream",
          "text": [
            "Test Loss: 0.599 | Test Acc: 79.42%\n"
          ],
          "name": "stdout"
        }
      ]
    },
    {
      "cell_type": "code",
      "metadata": {
        "colab": {
          "base_uri": "https://localhost:8080/",
          "height": 281
        },
        "id": "h9IcpEw6HsQx",
        "outputId": "573801cc-a777-492d-c59b-9c4a85cc26a5"
      },
      "source": [
        "generatePlot(train_list,valid_list, \"CNN\")"
      ],
      "execution_count": null,
      "outputs": [
        {
          "output_type": "display_data",
          "data": {
            "image/png": "[encoded data removed]",
            "text/plain": [
              "<Figure size 432x288 with 1 Axes>"
            ]
          },
          "metadata": {
            "tags": [],
            "needs_background": "light"
          }
        }
      ]
    },
    {
      "cell_type": "code",
      "metadata": {
        "colab": {
          "base_uri": "https://localhost:8080/"
        },
        "id": "STbp32wiBPFV",
        "outputId": "27166dc2-5000-4855-ddd6-5e68a9f130b7"
      },
      "source": [
        "report(model, test_iterator)"
      ],
      "execution_count": null,
      "outputs": [
        {
          "output_type": "stream",
          "text": [
            "              precision    recall  f1-score   support\n",
            "\n",
            "           0       0.76      0.69      0.72       448\n",
            "           1       0.81      0.88      0.84       438\n",
            "           2       0.81      0.81      0.81       454\n",
            "\n",
            "    accuracy                           0.79      1340\n",
            "   macro avg       0.79      0.79      0.79      1340\n",
            "weighted avg       0.79      0.79      0.79      1340\n",
            "\n"
          ],
          "name": "stdout"
        }
      ]
    },
    {
      "cell_type": "markdown",
      "metadata": {
        "id": "TuuPTTAgt-qh"
      },
      "source": [
        "##  Transformers for Sentiment Analysis\n",
        "\n",
        "The BETO already comes with its own language model and its own tokenizer adapted to Spanish. \n"
      ]
    },
    {
      "cell_type": "code",
      "metadata": {
        "id": "WFuc-mF6uCyq"
      },
      "source": [
        "from transformers import BertTokenizer, BertModel\n",
        "\n",
        "tokenizer = BertTokenizer.from_pretrained('dccuchile/bert-base-spanish-wwm-cased')\n",
        "bert      = BertModel.from_pretrained(\"dccuchile/bert-base-spanish-wwm-cased\")"
      ],
      "execution_count": null,
      "outputs": []
    },
    {
      "cell_type": "code",
      "metadata": {
        "id": "GvHO0j7OxNvE"
      },
      "source": [
        "init_token_idx = tokenizer.cls_token_id\n",
        "eos_token_idx  = tokenizer.sep_token_id\n",
        "pad_token_idx  = tokenizer.pad_token_id\n",
        "unk_token_idx  = tokenizer.unk_token_id"
      ],
      "execution_count": null,
      "outputs": []
    },
    {
      "cell_type": "code",
      "metadata": {
        "id": "StAkpBZdukhe"
      },
      "source": [
        "max_input_length = tokenizer.max_model_input_sizes['bert-base-uncased']\n",
        "def tokenize_and_cut(sentence):\n",
        "    tokens = tokenizer.tokenize(sentence) \n",
        "    tokens = tokens[:max_input_length-2]\n",
        "    return tokens"
      ],
      "execution_count": null,
      "outputs": []
    },
    {
      "cell_type": "code",
      "metadata": {
        "id": "Me_-RvcDsjuI"
      },
      "source": [
        "quote = data.Field(\n",
        "    batch_first   = True,\n",
        "    use_vocab     = False, \n",
        "    tokenize      = tokenize_and_cut,\n",
        "    preprocessing = tokenizer.convert_tokens_to_ids,\n",
        "    init_token    = init_token_idx,\n",
        "    eos_token     = eos_token_idx,\n",
        "    pad_token     = pad_token_idx,\n",
        "    unk_token     = unk_token_idx,\n",
        "    lower         = True)\n",
        "\n",
        "score = data.LabelField()"
      ],
      "execution_count": null,
      "outputs": []
    },
    {
      "cell_type": "code",
      "metadata": {
        "id": "cxJtLzMSleKv"
      },
      "source": [
        "fields = {'quote': ('text', quote), 'score': ('label', score)}\n",
        "\n",
        "train_data, valid_data, test_data = data.TabularDataset.splits(\n",
        "  path        =  data_dir,\n",
        "  train       = 'train_data_ba.csv',\n",
        "  validation  = 'val_data_ba.csv',\n",
        "  test        = 'test_data_ba.csv',\n",
        "  format      = 'csv',\n",
        "  fields      = fields\n",
        ")"
      ],
      "execution_count": null,
      "outputs": []
    },
    {
      "cell_type": "code",
      "metadata": {
        "colab": {
          "base_uri": "https://localhost:8080/"
        },
        "id": "9Ny6RMvItKUP",
        "outputId": "311b1b56-5094-4f65-98c5-4d09f2c4cadc"
      },
      "source": [
        "print(f\"Number of training examples:   {len(train_data)}\")\n",
        "print(f\"Number of validation examples: {len(valid_data)}\")\n",
        "print(f\"Number of testing examples:    {len(test_data)} \")"
      ],
      "execution_count": null,
      "outputs": [
        {
          "output_type": "stream",
          "text": [
            "Number of training examples:   9381\n",
            "Number of validation examples: 2680\n",
            "Number of testing examples:    1340 \n"
          ],
          "name": "stdout"
        }
      ]
    },
    {
      "cell_type": "code",
      "metadata": {
        "colab": {
          "base_uri": "https://localhost:8080/"
        },
        "id": "UtZ-bLZgtVMZ",
        "outputId": "877afb66-6ca8-41c0-8279-53675f7e99ff"
      },
      "source": [
        "print(vars(train_data.examples[6]))"
      ],
      "execution_count": null,
      "outputs": [
        {
          "output_type": "stream",
          "text": [
            "{'text': [19000, 6568, 1861, 2467, 1112, 10640, 8972, 1409, 3959, 3254, 13780, 3969], 'label': '0'}\n"
          ],
          "name": "stdout"
        }
      ]
    },
    {
      "cell_type": "code",
      "metadata": {
        "id": "-Ti9J8-C3FTk"
      },
      "source": [
        "score.build_vocab(train_data)"
      ],
      "execution_count": null,
      "outputs": []
    },
    {
      "cell_type": "code",
      "metadata": {
        "colab": {
          "base_uri": "https://localhost:8080/"
        },
        "id": "ZZcePDtS3QJg",
        "outputId": "6add4a09-9d03-471e-9c61-860c21335ac5"
      },
      "source": [
        "print(score.vocab.stoi)"
      ],
      "execution_count": null,
      "outputs": [
        {
          "output_type": "stream",
          "text": [
            "defaultdict(<function _default_unk_index at 0x7f00e0a15ea0>, {'1': 0, '2': 1, '0': 2})\n"
          ],
          "name": "stdout"
        }
      ]
    },
    {
      "cell_type": "code",
      "metadata": {
        "colab": {
          "base_uri": "https://localhost:8080/"
        },
        "id": "1Cdi0RH43eGT",
        "outputId": "9cc08cde-4797-48fd-9a49-904de508b668"
      },
      "source": [
        "BATCH_SIZE = 128\n",
        "print(device)\n",
        "train_iterator, valid_iterator, test_iterator = data.BucketIterator.splits(\n",
        "    (train_data, valid_data, test_data), \n",
        "    batch_size = BATCH_SIZE,\n",
        "    sort_key = lambda x: len(x.text),\n",
        "    sort_within_batch = True,\n",
        "    device = device)"
      ],
      "execution_count": null,
      "outputs": [
        {
          "output_type": "stream",
          "text": [
            "cuda\n"
          ],
          "name": "stdout"
        }
      ]
    },
    {
      "cell_type": "code",
      "metadata": {
        "id": "AfA7W9Z-3lcc"
      },
      "source": [
        "import torch.nn as nn\n",
        "\n",
        "class BERTGRUSentiment(nn.Module):\n",
        "    def __init__(self,\n",
        "                 bert,\n",
        "                 hidden_dim,\n",
        "                 output_dim,\n",
        "                 n_layers,\n",
        "                 bidirectional,\n",
        "                 dropout):\n",
        "        \n",
        "        super().__init__()\n",
        "        \n",
        "        self.bert = bert\n",
        "        \n",
        "        embedding_dim = bert.config.to_dict()['hidden_size']\n",
        "\n",
        "        \n",
        "        self.rnn = nn.GRU(embedding_dim,\n",
        "                          hidden_dim,\n",
        "                          num_layers = n_layers,\n",
        "                          bidirectional = bidirectional,\n",
        "                          batch_first = True,\n",
        "                          dropout = 0 if n_layers < 2 else dropout)\n",
        "        \n",
        "        self.out = nn.Linear(hidden_dim * 2 if bidirectional else hidden_dim, output_dim)\n",
        "        \n",
        "        self.dropout = nn.Dropout(dropout)\n",
        "        \n",
        "    def forward(self, text):\n",
        "        \n",
        "        #text = [batch size, sent len]\n",
        "                \n",
        "        with torch.no_grad():\n",
        "            embedded = self.bert(text)[0]\n",
        "                \n",
        "        #embedded = [batch size, sent len, emb dim]\n",
        "        \n",
        "        _, hidden = self.rnn(embedded)\n",
        "        \n",
        "        #hidden = [n layers * n directions, batch size, emb dim]\n",
        "        \n",
        "        if self.rnn.bidirectional:\n",
        "            hidden = self.dropout(torch.cat((hidden[-2,:,:], hidden[-1,:,:]), dim = 1))\n",
        "        else:\n",
        "            hidden = self.dropout(hidden[-1,:,:])\n",
        "                \n",
        "        #hidden = [batch size, hid dim]\n",
        "        \n",
        "        output = self.out(hidden)\n",
        "        \n",
        "        #output = [batch size, out dim]\n",
        "        \n",
        "        return output\n"
      ],
      "execution_count": null,
      "outputs": []
    },
    {
      "cell_type": "markdown",
      "metadata": {
        "id": "0U0lwFhr2KHm"
      },
      "source": [
        "Network hyperparameters "
      ]
    },
    {
      "cell_type": "code",
      "metadata": {
        "id": "c3kMurEG7mUm"
      },
      "source": [
        "HIDDEN_DIM    = 512\n",
        "OUTPUT_DIM    = len(score.vocab)\n",
        "N_LAYERS      = 6\n",
        "BIDIRECTIONAL = True\n",
        "DROPOUT       = 0.15"
      ],
      "execution_count": null,
      "outputs": []
    },
    {
      "cell_type": "code",
      "metadata": {
        "id": "N0FYc1MH3mxj"
      },
      "source": [
        "model = BERTGRUSentiment(bert,\n",
        "                         HIDDEN_DIM,\n",
        "                         OUTPUT_DIM,\n",
        "                         N_LAYERS,\n",
        "                         BIDIRECTIONAL,\n",
        "                         DROPOUT)"
      ],
      "execution_count": null,
      "outputs": []
    },
    {
      "cell_type": "code",
      "metadata": {
        "colab": {
          "base_uri": "https://localhost:8080/"
        },
        "id": "5s0b1twE3uUZ",
        "outputId": "5e51c6c1-6856-4c34-d663-c72365a7bcfc"
      },
      "source": [
        "def count_parameters(model):\n",
        "    return sum(p.numel() for p in model.parameters() if p.requires_grad)\n",
        "\n",
        "print(f'The model has {count_parameters(model):,} trainable parameters')\n",
        "\n",
        "for name, param in model.named_parameters():                \n",
        "    if name.startswith('bert'):\n",
        "        param.requires_grad = False\n",
        "\n",
        "def count_parameters(model):\n",
        "    return sum(p.numel() for p in model.parameters() if p.requires_grad)\n",
        "\n",
        "print(f'The model has {count_parameters(model):,} trainable parameters')\n",
        "\n",
        "for name, param in model.named_parameters():                \n",
        "    if param.requires_grad:\n",
        "        print(name)"
      ],
      "execution_count": null,
      "outputs": [
        {
          "output_type": "stream",
          "text": [
            "The model has 137,415,939 trainable parameters\n",
            "The model has 27,565,059 trainable parameters\n",
            "rnn.weight_ih_l0\n",
            "rnn.weight_hh_l0\n",
            "rnn.bias_ih_l0\n",
            "rnn.bias_hh_l0\n",
            "rnn.weight_ih_l0_reverse\n",
            "rnn.weight_hh_l0_reverse\n",
            "rnn.bias_ih_l0_reverse\n",
            "rnn.bias_hh_l0_reverse\n",
            "rnn.weight_ih_l1\n",
            "rnn.weight_hh_l1\n",
            "rnn.bias_ih_l1\n",
            "rnn.bias_hh_l1\n",
            "rnn.weight_ih_l1_reverse\n",
            "rnn.weight_hh_l1_reverse\n",
            "rnn.bias_ih_l1_reverse\n",
            "rnn.bias_hh_l1_reverse\n",
            "rnn.weight_ih_l2\n",
            "rnn.weight_hh_l2\n",
            "rnn.bias_ih_l2\n",
            "rnn.bias_hh_l2\n",
            "rnn.weight_ih_l2_reverse\n",
            "rnn.weight_hh_l2_reverse\n",
            "rnn.bias_ih_l2_reverse\n",
            "rnn.bias_hh_l2_reverse\n",
            "rnn.weight_ih_l3\n",
            "rnn.weight_hh_l3\n",
            "rnn.bias_ih_l3\n",
            "rnn.bias_hh_l3\n",
            "rnn.weight_ih_l3_reverse\n",
            "rnn.weight_hh_l3_reverse\n",
            "rnn.bias_ih_l3_reverse\n",
            "rnn.bias_hh_l3_reverse\n",
            "rnn.weight_ih_l4\n",
            "rnn.weight_hh_l4\n",
            "rnn.bias_ih_l4\n",
            "rnn.bias_hh_l4\n",
            "rnn.weight_ih_l4_reverse\n",
            "rnn.weight_hh_l4_reverse\n",
            "rnn.bias_ih_l4_reverse\n",
            "rnn.bias_hh_l4_reverse\n",
            "rnn.weight_ih_l5\n",
            "rnn.weight_hh_l5\n",
            "rnn.bias_ih_l5\n",
            "rnn.bias_hh_l5\n",
            "rnn.weight_ih_l5_reverse\n",
            "rnn.weight_hh_l5_reverse\n",
            "rnn.bias_ih_l5_reverse\n",
            "rnn.bias_hh_l5_reverse\n",
            "out.weight\n",
            "out.bias\n"
          ],
          "name": "stdout"
        }
      ]
    },
    {
      "cell_type": "code",
      "metadata": {
        "id": "hWV0b8g038GK"
      },
      "source": [
        "import torch.optim as optim\n",
        "\n",
        "optimizer = optim.AdamW(model.parameters())\n",
        "criterion = nn.CrossEntropyLoss()\n",
        "model     = model.to(device)\n",
        "criterion = criterion.to(device)"
      ],
      "execution_count": null,
      "outputs": []
    },
    {
      "cell_type": "code",
      "metadata": {
        "colab": {
          "base_uri": "https://localhost:8080/"
        },
        "id": "5-D2jRMY4TH3",
        "outputId": "004ae4c9-725a-498a-94ca-43705ea8121c"
      },
      "source": [
        "name_model = 'BETO-model.pt'\n",
        "train_list,valid_list = fit(model, name_model)"
      ],
      "execution_count": null,
      "outputs": [
        {
          "output_type": "stream",
          "text": [
            "Epoch: 01 | Epoch Time: 0m 24s\n",
            "\tTrain Loss: 1.232 | Train Acc: 38.01%\n",
            "\t Val. Loss: 0.976 |  Val. Acc: 50.89%\n",
            "Epoch: 02 | Epoch Time: 0m 25s\n",
            "\tTrain Loss: 0.991 | Train Acc: 48.78%\n",
            "\t Val. Loss: 1.011 |  Val. Acc: 45.02%\n",
            "Epoch: 03 | Epoch Time: 0m 24s\n",
            "\tTrain Loss: 0.957 | Train Acc: 51.92%\n",
            "\t Val. Loss: 0.914 |  Val. Acc: 55.06%\n",
            "Epoch: 04 | Epoch Time: 0m 24s\n",
            "\tTrain Loss: 0.919 | Train Acc: 54.84%\n",
            "\t Val. Loss: 0.905 |  Val. Acc: 54.28%\n",
            "Epoch: 05 | Epoch Time: 0m 24s\n",
            "\tTrain Loss: 0.904 | Train Acc: 55.47%\n",
            "\t Val. Loss: 0.891 |  Val. Acc: 56.62%\n",
            "Epoch: 06 | Epoch Time: 0m 24s\n",
            "\tTrain Loss: 0.869 | Train Acc: 58.70%\n",
            "\t Val. Loss: 0.863 |  Val. Acc: 59.63%\n",
            "Epoch: 07 | Epoch Time: 0m 24s\n",
            "\tTrain Loss: 0.825 | Train Acc: 60.47%\n",
            "\t Val. Loss: 0.806 |  Val. Acc: 61.89%\n",
            "Epoch: 08 | Epoch Time: 0m 24s\n",
            "\tTrain Loss: 0.783 | Train Acc: 63.48%\n",
            "\t Val. Loss: 0.785 |  Val. Acc: 64.70%\n",
            "Epoch: 09 | Epoch Time: 0m 24s\n",
            "\tTrain Loss: 0.744 | Train Acc: 65.93%\n",
            "\t Val. Loss: 0.780 |  Val. Acc: 65.32%\n",
            "Epoch: 10 | Epoch Time: 0m 24s\n",
            "\tTrain Loss: 0.701 | Train Acc: 68.83%\n",
            "\t Val. Loss: 0.757 |  Val. Acc: 66.94%\n",
            "Epoch: 11 | Epoch Time: 0m 24s\n",
            "\tTrain Loss: 0.649 | Train Acc: 71.46%\n",
            "\t Val. Loss: 0.722 |  Val. Acc: 68.01%\n",
            "Epoch: 12 | Epoch Time: 0m 24s\n",
            "\tTrain Loss: 0.586 | Train Acc: 75.54%\n",
            "\t Val. Loss: 0.775 |  Val. Acc: 66.55%\n",
            "Epoch: 13 | Epoch Time: 0m 24s\n",
            "\tTrain Loss: 0.538 | Train Acc: 77.41%\n",
            "\t Val. Loss: 0.743 |  Val. Acc: 68.01%\n",
            "Epoch: 14 | Epoch Time: 0m 24s\n",
            "\tTrain Loss: 0.501 | Train Acc: 78.29%\n",
            "\t Val. Loss: 0.652 |  Val. Acc: 72.41%\n",
            "Epoch: 15 | Epoch Time: 0m 24s\n",
            "\tTrain Loss: 0.473 | Train Acc: 79.64%\n",
            "\t Val. Loss: 0.638 |  Val. Acc: 75.74%\n",
            "Epoch: 16 | Epoch Time: 0m 24s\n",
            "\tTrain Loss: 0.422 | Train Acc: 82.50%\n",
            "\t Val. Loss: 0.612 |  Val. Acc: 76.79%\n",
            "Epoch: 17 | Epoch Time: 0m 24s\n",
            "\tTrain Loss: 0.393 | Train Acc: 83.58%\n",
            "\t Val. Loss: 0.568 |  Val. Acc: 78.59%\n",
            "Epoch: 18 | Epoch Time: 0m 24s\n",
            "\tTrain Loss: 0.322 | Train Acc: 86.51%\n",
            "\t Val. Loss: 0.585 |  Val. Acc: 77.15%\n",
            "Epoch: 19 | Epoch Time: 0m 24s\n",
            "\tTrain Loss: 0.339 | Train Acc: 86.25%\n",
            "\t Val. Loss: 0.592 |  Val. Acc: 77.98%\n",
            "Epoch: 20 | Epoch Time: 0m 24s\n",
            "\tTrain Loss: 0.304 | Train Acc: 87.00%\n",
            "\t Val. Loss: 0.634 |  Val. Acc: 77.37%\n",
            "Epoch: 21 | Epoch Time: 0m 24s\n",
            "\tTrain Loss: 0.311 | Train Acc: 86.62%\n",
            "\t Val. Loss: 0.620 |  Val. Acc: 77.99%\n",
            "Epoch: 22 | Epoch Time: 0m 24s\n",
            "\tTrain Loss: 0.284 | Train Acc: 87.94%\n",
            "\t Val. Loss: 0.643 |  Val. Acc: 78.67%\n",
            "Epoch: 23 | Epoch Time: 0m 24s\n",
            "\tTrain Loss: 0.275 | Train Acc: 88.17%\n",
            "\t Val. Loss: 0.635 |  Val. Acc: 79.66%\n",
            "Epoch: 24 | Epoch Time: 0m 24s\n",
            "\tTrain Loss: 0.262 | Train Acc: 88.58%\n",
            "\t Val. Loss: 0.653 |  Val. Acc: 79.19%\n",
            "Epoch: 25 | Epoch Time: 0m 24s\n",
            "\tTrain Loss: 0.263 | Train Acc: 88.65%\n",
            "\t Val. Loss: 0.573 |  Val. Acc: 81.19%\n",
            "Epoch: 26 | Epoch Time: 0m 24s\n",
            "\tTrain Loss: 0.232 | Train Acc: 90.18%\n",
            "\t Val. Loss: 0.577 |  Val. Acc: 80.69%\n",
            "Epoch: 27 | Epoch Time: 0m 24s\n",
            "\tTrain Loss: 0.226 | Train Acc: 89.97%\n",
            "\t Val. Loss: 0.688 |  Val. Acc: 79.64%\n",
            "Epoch: 28 | Epoch Time: 0m 24s\n",
            "\tTrain Loss: 0.221 | Train Acc: 90.00%\n",
            "\t Val. Loss: 0.685 |  Val. Acc: 79.90%\n",
            "Epoch: 29 | Epoch Time: 0m 24s\n",
            "\tTrain Loss: 0.217 | Train Acc: 90.21%\n",
            "\t Val. Loss: 0.564 |  Val. Acc: 80.11%\n",
            "Epoch: 30 | Epoch Time: 0m 24s\n",
            "\tTrain Loss: 0.217 | Train Acc: 89.90%\n",
            "\t Val. Loss: 0.556 |  Val. Acc: 80.91%\n",
            "Epoch: 31 | Epoch Time: 0m 24s\n",
            "\tTrain Loss: 0.207 | Train Acc: 90.59%\n",
            "\t Val. Loss: 0.674 |  Val. Acc: 80.71%\n",
            "Epoch: 32 | Epoch Time: 0m 24s\n",
            "\tTrain Loss: 0.221 | Train Acc: 90.43%\n",
            "\t Val. Loss: 0.617 |  Val. Acc: 81.74%\n",
            "Epoch: 33 | Epoch Time: 0m 24s\n",
            "\tTrain Loss: 0.230 | Train Acc: 89.82%\n",
            "\t Val. Loss: 0.562 |  Val. Acc: 82.02%\n",
            "Epoch: 34 | Epoch Time: 0m 24s\n",
            "\tTrain Loss: 0.200 | Train Acc: 90.73%\n",
            "\t Val. Loss: 0.746 |  Val. Acc: 78.45%\n",
            "Epoch: 35 | Epoch Time: 0m 24s\n",
            "\tTrain Loss: 0.228 | Train Acc: 89.84%\n",
            "\t Val. Loss: 0.671 |  Val. Acc: 81.34%\n",
            "Epoch: 36 | Epoch Time: 0m 24s\n",
            "\tTrain Loss: 0.209 | Train Acc: 90.56%\n",
            "\t Val. Loss: 0.614 |  Val. Acc: 80.17%\n",
            "Epoch: 37 | Epoch Time: 0m 24s\n",
            "\tTrain Loss: 0.189 | Train Acc: 91.21%\n",
            "\t Val. Loss: 0.663 |  Val. Acc: 80.77%\n",
            "Epoch: 38 | Epoch Time: 0m 24s\n",
            "\tTrain Loss: 0.216 | Train Acc: 90.40%\n",
            "\t Val. Loss: 0.651 |  Val. Acc: 80.70%\n",
            "Epoch: 39 | Epoch Time: 0m 24s\n",
            "\tTrain Loss: 0.201 | Train Acc: 90.61%\n",
            "\t Val. Loss: 0.654 |  Val. Acc: 79.70%\n",
            "Epoch: 40 | Epoch Time: 0m 24s\n",
            "\tTrain Loss: 0.193 | Train Acc: 91.10%\n",
            "\t Val. Loss: 0.641 |  Val. Acc: 81.26%\n",
            "Epoch: 41 | Epoch Time: 0m 24s\n",
            "\tTrain Loss: 0.172 | Train Acc: 91.71%\n",
            "\t Val. Loss: 0.590 |  Val. Acc: 81.94%\n",
            "Epoch: 42 | Epoch Time: 0m 24s\n",
            "\tTrain Loss: 0.176 | Train Acc: 91.55%\n",
            "\t Val. Loss: 0.593 |  Val. Acc: 82.72%\n",
            "Epoch: 43 | Epoch Time: 0m 24s\n",
            "\tTrain Loss: 0.175 | Train Acc: 91.52%\n",
            "\t Val. Loss: 0.575 |  Val. Acc: 81.93%\n",
            "Epoch: 44 | Epoch Time: 0m 24s\n",
            "\tTrain Loss: 0.174 | Train Acc: 91.61%\n",
            "\t Val. Loss: 0.643 |  Val. Acc: 81.24%\n",
            "Epoch: 45 | Epoch Time: 0m 24s\n",
            "\tTrain Loss: 0.162 | Train Acc: 92.11%\n",
            "\t Val. Loss: 0.678 |  Val. Acc: 81.83%\n",
            "Epoch: 46 | Epoch Time: 0m 24s\n",
            "\tTrain Loss: 0.178 | Train Acc: 91.24%\n",
            "\t Val. Loss: 0.578 |  Val. Acc: 80.68%\n",
            "Epoch: 47 | Epoch Time: 0m 24s\n",
            "\tTrain Loss: 0.196 | Train Acc: 90.74%\n",
            "\t Val. Loss: 0.633 |  Val. Acc: 81.58%\n",
            "Epoch: 48 | Epoch Time: 0m 24s\n",
            "\tTrain Loss: 0.210 | Train Acc: 90.74%\n",
            "\t Val. Loss: 0.607 |  Val. Acc: 81.92%\n",
            "Epoch: 49 | Epoch Time: 0m 24s\n",
            "\tTrain Loss: 0.172 | Train Acc: 91.72%\n",
            "\t Val. Loss: 0.629 |  Val. Acc: 82.30%\n",
            "Epoch: 50 | Epoch Time: 0m 24s\n",
            "\tTrain Loss: 0.173 | Train Acc: 91.41%\n",
            "\t Val. Loss: 0.665 |  Val. Acc: 80.77%\n"
          ],
          "name": "stdout"
        }
      ]
    },
    {
      "cell_type": "code",
      "metadata": {
        "colab": {
          "base_uri": "https://localhost:8080/",
          "height": 281
        },
        "id": "r_zxWYSJl5Bn",
        "outputId": "6fb6ba4c-99fd-424e-abc9-e25514aebcda"
      },
      "source": [
        "generatePlot(train_list,valid_list, \"BETO\")"
      ],
      "execution_count": null,
      "outputs": [
        {
          "output_type": "display_data",
          "data": {
            "image/png": "[encoded data removed]",
            "text/plain": [
              "<Figure size 432x288 with 1 Axes>"
            ]
          },
          "metadata": {
            "tags": [],
            "needs_background": "light"
          }
        }
      ]
    },
    {
      "cell_type": "code",
      "metadata": {
        "colab": {
          "base_uri": "https://localhost:8080/"
        },
        "id": "SFhuIb5x9QRi",
        "outputId": "41b774a5-8bfb-4d56-d99a-2279f31f0659"
      },
      "source": [
        "model.load_state_dict(torch.load(name_model))\n",
        "\n",
        "test_loss, test_acc = evaluate(model, test_iterator, criterion)\n",
        "\n",
        "print(f'Test Loss: {test_loss:.3f} | Test Acc: {test_acc*100:.2f}%')"
      ],
      "execution_count": null,
      "outputs": [
        {
          "output_type": "stream",
          "text": [
            "Test Loss: 0.613 | Test Acc: 77.84%\n"
          ],
          "name": "stdout"
        }
      ]
    },
    {
      "cell_type": "code",
      "metadata": {
        "colab": {
          "base_uri": "https://localhost:8080/"
        },
        "id": "hGI6X1RMBneq",
        "outputId": "fcfaeffc-e197-4bd1-b731-c3a764587fc6"
      },
      "source": [
        "report(model, test_iterator)"
      ],
      "execution_count": null,
      "outputs": [
        {
          "output_type": "stream",
          "text": [
            "              precision    recall  f1-score   support\n",
            "\n",
            "           0       0.71      0.73      0.72       448\n",
            "           1       0.82      0.81      0.81       438\n",
            "           2       0.82      0.81      0.81       454\n",
            "\n",
            "    accuracy                           0.78      1340\n",
            "   macro avg       0.78      0.78      0.78      1340\n",
            "weighted avg       0.78      0.78      0.78      1340\n",
            "\n"
          ],
          "name": "stdout"
        }
      ]
    },
    {
      "cell_type": "markdown",
      "metadata": {
        "id": "554PkPlXKlWw"
      },
      "source": [
        "## Faster Sentiments\n",
        "\n",
        "This model has far fewer parameters than the previous model as it only has 2 layers that have any parameters, the embedding layer and the linear layer.\n",
        "\n",
        "- Tokenizer: SpaCy\n",
        "- Language model: Glove for Spanish"
      ]
    },
    {
      "cell_type": "code",
      "metadata": {
        "id": "Hee7G3tBM_ic"
      },
      "source": [
        "def generate_bigrams(x):\n",
        "    n_grams = set(zip(*[x[i:] for i in range(2)]))\n",
        "    for n_gram in n_grams:\n",
        "        x.append(' '.join(n_gram))\n",
        "    return x"
      ],
      "execution_count": null,
      "outputs": []
    },
    {
      "cell_type": "code",
      "metadata": {
        "id": "71ViPiQdKkW_"
      },
      "source": [
        "quote  = data.Field(tokenize = 'spacy')\n",
        "score  = data.LabelField()"
      ],
      "execution_count": null,
      "outputs": []
    },
    {
      "cell_type": "code",
      "metadata": {
        "colab": {
          "base_uri": "https://localhost:8080/"
        },
        "id": "ge8m2tl4NIeI",
        "outputId": "46e9ec0c-5315-48ab-985e-8f1ed04f776a"
      },
      "source": [
        "fields = {'quote': ('text', quote), 'score': ('label', score)}\n",
        "\n",
        "train_data, valid_data, test_data = data.TabularDataset.splits(\n",
        "  path        =  data_dir,\n",
        "  train       = 'train_data_ba.csv',\n",
        "  validation  = 'val_data_ba.csv',\n",
        "  test        = 'test_data_ba.csv',\n",
        "  format      = 'csv',\n",
        "  fields      = fields\n",
        ")\n",
        "\n",
        "print(f\"Number of training examples:   {len(train_data)}\")\n",
        "print(f\"Number of validation examples: {len(valid_data)}\")\n",
        "print(f\"Number of testing examples:    {len(test_data)} \")"
      ],
      "execution_count": null,
      "outputs": [
        {
          "output_type": "stream",
          "text": [
            "Number of training examples:   9381\n",
            "Number of validation examples: 2680\n",
            "Number of testing examples:    1340 \n"
          ],
          "name": "stdout"
        }
      ]
    },
    {
      "cell_type": "code",
      "metadata": {
        "id": "T7w4BZoZNLZk"
      },
      "source": [
        "MAX_VOCAB_SIZE = 25_000\n",
        "\n",
        "quote.build_vocab(train_data, \n",
        "                 max_size = MAX_VOCAB_SIZE, \n",
        "                 vectors = \"glove.6B.100d\", \n",
        "                 unk_init = torch.Tensor.normal_)\n",
        "\n",
        "score.build_vocab(train_data)"
      ],
      "execution_count": null,
      "outputs": []
    },
    {
      "cell_type": "code",
      "metadata": {
        "id": "UNLqJrpQNWcD"
      },
      "source": [
        "BATCH_SIZE = 64\n",
        "\n",
        "device = torch.device('cuda' if torch.cuda.is_available() else 'cpu')\n",
        "\n",
        "train_iterator, valid_iterator, test_iterator = data.BucketIterator.splits(\n",
        "    (train_data, valid_data, test_data), \n",
        "    batch_size = BATCH_SIZE, \n",
        "    sort_key = lambda x: len(x.text),\n",
        "    sort_within_batch = True,\n",
        "    device = device)"
      ],
      "execution_count": null,
      "outputs": []
    },
    {
      "cell_type": "code",
      "metadata": {
        "id": "j9Zg42djNhvB"
      },
      "source": [
        "import torch.nn as nn\n",
        "import torch.nn.functional as F\n",
        "\n",
        "class FastText(nn.Module):\n",
        "    def __init__(self, vocab_size, embedding_dim, output_dim, pad_idx):\n",
        "        \n",
        "        super().__init__()\n",
        "        \n",
        "        self.embedding = nn.Embedding(vocab_size, embedding_dim, padding_idx=pad_idx)\n",
        "        \n",
        "        self.fc = nn.Linear(embedding_dim, output_dim)\n",
        "        \n",
        "    def forward(self, text):\n",
        "        \n",
        "        #text = [sent len, batch size]\n",
        "        \n",
        "        embedded = self.embedding(text)\n",
        "                \n",
        "        #embedded = [sent len, batch size, emb dim]\n",
        "        \n",
        "        embedded = embedded.permute(1, 0, 2)\n",
        "        \n",
        "        #embedded = [batch size, sent len, emb dim]\n",
        "        \n",
        "        pooled = F.avg_pool2d(embedded, (embedded.shape[1], 1)).squeeze(1) \n",
        "        \n",
        "        #pooled = [batch size, embedding_dim]\n",
        "                \n",
        "        return self.fc(pooled)"
      ],
      "execution_count": null,
      "outputs": []
    },
    {
      "cell_type": "code",
      "metadata": {
        "id": "DP0zGnt8Nk25"
      },
      "source": [
        "INPUT_DIM = len(quote.vocab)\n",
        "EMBEDDING_DIM = 100\n",
        "OUTPUT_DIM = len(score.vocab)\n",
        "PAD_IDX = quote.vocab.stoi[quote.pad_token]\n",
        "\n",
        "model = FastText(INPUT_DIM, EMBEDDING_DIM, OUTPUT_DIM, PAD_IDX)"
      ],
      "execution_count": null,
      "outputs": []
    },
    {
      "cell_type": "code",
      "metadata": {
        "colab": {
          "base_uri": "https://localhost:8080/"
        },
        "id": "5P0-U4CyNsur",
        "outputId": "98b1974d-a507-405b-e679-342738621d08"
      },
      "source": [
        "def count_parameters(model):\n",
        "    return sum(p.numel() for p in model.parameters() if p.requires_grad)\n",
        "\n",
        "print(f'The model has {count_parameters(model):,} trainable parameters')"
      ],
      "execution_count": null,
      "outputs": [
        {
          "output_type": "stream",
          "text": [
            "The model has 1,137,703 trainable parameters\n"
          ],
          "name": "stdout"
        }
      ]
    },
    {
      "cell_type": "code",
      "metadata": {
        "id": "2QJ6nmMINvnJ"
      },
      "source": [
        "pretrained_embeddings = quote.vocab.vectors\n",
        "\n",
        "UNK_IDX = quote.vocab.stoi[quote.unk_token]\n",
        "\n",
        "model.embedding.weight.data[UNK_IDX] = torch.zeros(EMBEDDING_DIM)\n",
        "model.embedding.weight.data[PAD_IDX] = torch.zeros(EMBEDDING_DIM)"
      ],
      "execution_count": null,
      "outputs": []
    },
    {
      "cell_type": "code",
      "metadata": {
        "id": "6JCfdY71N6bW"
      },
      "source": [
        "import torch.optim as optim\n",
        "\n",
        "optimizer = optim.Adam(model.parameters())\n",
        "\n",
        "criterion = nn.CrossEntropyLoss()\n",
        "\n",
        "model = model.to(device)\n",
        "criterion = criterion.to(device)"
      ],
      "execution_count": null,
      "outputs": []
    },
    {
      "cell_type": "code",
      "metadata": {
        "colab": {
          "base_uri": "https://localhost:8080/"
        },
        "id": "NnzA3dBeN_ee",
        "outputId": "1c00389d-6c3b-4b59-8e2b-fae458bc23f1"
      },
      "source": [
        "name_model = 'fast-RNN-model.pt'\n",
        "train_list,valid_list = fit(model, name_model)"
      ],
      "execution_count": null,
      "outputs": [
        {
          "output_type": "stream",
          "text": [
            "Epoch: 01 | Epoch Time: 0m 0s\n",
            "\tTrain Loss: 1.074 | Train Acc: 41.01%\n",
            "\t Val. Loss: 1.046 |  Val. Acc: 46.61%\n",
            "Epoch: 02 | Epoch Time: 0m 0s\n",
            "\tTrain Loss: 1.002 | Train Acc: 51.63%\n",
            "\t Val. Loss: 0.986 |  Val. Acc: 52.03%\n",
            "Epoch: 03 | Epoch Time: 0m 0s\n",
            "\tTrain Loss: 0.918 | Train Acc: 59.01%\n",
            "\t Val. Loss: 0.921 |  Val. Acc: 57.18%\n",
            "Epoch: 04 | Epoch Time: 0m 0s\n",
            "\tTrain Loss: 0.826 | Train Acc: 64.99%\n",
            "\t Val. Loss: 0.859 |  Val. Acc: 60.20%\n",
            "Epoch: 05 | Epoch Time: 0m 0s\n",
            "\tTrain Loss: 0.734 | Train Acc: 70.06%\n",
            "\t Val. Loss: 0.803 |  Val. Acc: 64.33%\n",
            "Epoch: 06 | Epoch Time: 0m 0s\n",
            "\tTrain Loss: 0.650 | Train Acc: 74.53%\n",
            "\t Val. Loss: 0.755 |  Val. Acc: 67.09%\n",
            "Epoch: 07 | Epoch Time: 0m 0s\n",
            "\tTrain Loss: 0.574 | Train Acc: 78.58%\n",
            "\t Val. Loss: 0.714 |  Val. Acc: 68.85%\n",
            "Epoch: 08 | Epoch Time: 0m 0s\n",
            "\tTrain Loss: 0.507 | Train Acc: 81.17%\n",
            "\t Val. Loss: 0.679 |  Val. Acc: 70.48%\n",
            "Epoch: 09 | Epoch Time: 0m 0s\n",
            "\tTrain Loss: 0.451 | Train Acc: 83.02%\n",
            "\t Val. Loss: 0.650 |  Val. Acc: 72.25%\n",
            "Epoch: 10 | Epoch Time: 0m 0s\n",
            "\tTrain Loss: 0.403 | Train Acc: 85.03%\n",
            "\t Val. Loss: 0.627 |  Val. Acc: 73.75%\n",
            "Epoch: 11 | Epoch Time: 0m 0s\n",
            "\tTrain Loss: 0.364 | Train Acc: 86.49%\n",
            "\t Val. Loss: 0.607 |  Val. Acc: 75.54%\n",
            "Epoch: 12 | Epoch Time: 0m 0s\n",
            "\tTrain Loss: 0.331 | Train Acc: 87.85%\n",
            "\t Val. Loss: 0.593 |  Val. Acc: 76.02%\n",
            "Epoch: 13 | Epoch Time: 0m 0s\n",
            "\tTrain Loss: 0.302 | Train Acc: 88.82%\n",
            "\t Val. Loss: 0.582 |  Val. Acc: 76.06%\n",
            "Epoch: 14 | Epoch Time: 0m 0s\n",
            "\tTrain Loss: 0.280 | Train Acc: 89.64%\n",
            "\t Val. Loss: 0.575 |  Val. Acc: 77.14%\n",
            "Epoch: 15 | Epoch Time: 0m 0s\n",
            "\tTrain Loss: 0.261 | Train Acc: 90.16%\n",
            "\t Val. Loss: 0.567 |  Val. Acc: 77.55%\n",
            "Epoch: 16 | Epoch Time: 0m 0s\n",
            "\tTrain Loss: 0.245 | Train Acc: 90.40%\n",
            "\t Val. Loss: 0.565 |  Val. Acc: 77.77%\n",
            "Epoch: 17 | Epoch Time: 0m 0s\n",
            "\tTrain Loss: 0.232 | Train Acc: 90.73%\n",
            "\t Val. Loss: 0.561 |  Val. Acc: 77.95%\n",
            "Epoch: 18 | Epoch Time: 0m 0s\n",
            "\tTrain Loss: 0.219 | Train Acc: 91.22%\n",
            "\t Val. Loss: 0.559 |  Val. Acc: 78.70%\n",
            "Epoch: 19 | Epoch Time: 0m 0s\n",
            "\tTrain Loss: 0.210 | Train Acc: 91.20%\n",
            "\t Val. Loss: 0.560 |  Val. Acc: 78.81%\n",
            "Epoch: 20 | Epoch Time: 0m 0s\n",
            "\tTrain Loss: 0.201 | Train Acc: 91.46%\n",
            "\t Val. Loss: 0.561 |  Val. Acc: 78.93%\n",
            "Epoch: 21 | Epoch Time: 0m 0s\n",
            "\tTrain Loss: 0.193 | Train Acc: 91.54%\n",
            "\t Val. Loss: 0.565 |  Val. Acc: 79.04%\n",
            "Epoch: 22 | Epoch Time: 0m 0s\n",
            "\tTrain Loss: 0.186 | Train Acc: 92.00%\n",
            "\t Val. Loss: 0.566 |  Val. Acc: 79.45%\n",
            "Epoch: 23 | Epoch Time: 0m 0s\n",
            "\tTrain Loss: 0.181 | Train Acc: 92.16%\n",
            "\t Val. Loss: 0.568 |  Val. Acc: 79.64%\n",
            "Epoch: 24 | Epoch Time: 0m 0s\n",
            "\tTrain Loss: 0.176 | Train Acc: 91.80%\n",
            "\t Val. Loss: 0.573 |  Val. Acc: 79.38%\n",
            "Epoch: 25 | Epoch Time: 0m 0s\n",
            "\tTrain Loss: 0.172 | Train Acc: 92.29%\n",
            "\t Val. Loss: 0.576 |  Val. Acc: 80.23%\n",
            "Epoch: 26 | Epoch Time: 0m 0s\n",
            "\tTrain Loss: 0.168 | Train Acc: 92.06%\n",
            "\t Val. Loss: 0.580 |  Val. Acc: 80.23%\n",
            "Epoch: 27 | Epoch Time: 0m 0s\n",
            "\tTrain Loss: 0.164 | Train Acc: 92.56%\n",
            "\t Val. Loss: 0.586 |  Val. Acc: 80.42%\n",
            "Epoch: 28 | Epoch Time: 0m 0s\n",
            "\tTrain Loss: 0.162 | Train Acc: 92.32%\n",
            "\t Val. Loss: 0.589 |  Val. Acc: 79.75%\n",
            "Epoch: 29 | Epoch Time: 0m 0s\n",
            "\tTrain Loss: 0.160 | Train Acc: 92.38%\n",
            "\t Val. Loss: 0.596 |  Val. Acc: 79.75%\n",
            "Epoch: 30 | Epoch Time: 0m 0s\n",
            "\tTrain Loss: 0.156 | Train Acc: 92.55%\n",
            "\t Val. Loss: 0.601 |  Val. Acc: 80.05%\n",
            "Epoch: 31 | Epoch Time: 0m 0s\n",
            "\tTrain Loss: 0.154 | Train Acc: 92.45%\n",
            "\t Val. Loss: 0.606 |  Val. Acc: 79.60%\n",
            "Epoch: 32 | Epoch Time: 0m 0s\n",
            "\tTrain Loss: 0.152 | Train Acc: 92.33%\n",
            "\t Val. Loss: 0.610 |  Val. Acc: 80.16%\n",
            "Epoch: 33 | Epoch Time: 0m 0s\n",
            "\tTrain Loss: 0.150 | Train Acc: 92.57%\n",
            "\t Val. Loss: 0.614 |  Val. Acc: 79.97%\n",
            "Epoch: 34 | Epoch Time: 0m 0s\n",
            "\tTrain Loss: 0.148 | Train Acc: 92.61%\n",
            "\t Val. Loss: 0.619 |  Val. Acc: 79.94%\n",
            "Epoch: 35 | Epoch Time: 0m 0s\n",
            "\tTrain Loss: 0.147 | Train Acc: 92.52%\n",
            "\t Val. Loss: 0.628 |  Val. Acc: 80.57%\n",
            "Epoch: 36 | Epoch Time: 0m 0s\n",
            "\tTrain Loss: 0.146 | Train Acc: 93.00%\n",
            "\t Val. Loss: 0.631 |  Val. Acc: 80.12%\n",
            "Epoch: 37 | Epoch Time: 0m 0s\n",
            "\tTrain Loss: 0.144 | Train Acc: 92.77%\n",
            "\t Val. Loss: 0.640 |  Val. Acc: 80.20%\n",
            "Epoch: 38 | Epoch Time: 0m 0s\n",
            "\tTrain Loss: 0.142 | Train Acc: 92.98%\n",
            "\t Val. Loss: 0.642 |  Val. Acc: 80.72%\n",
            "Epoch: 39 | Epoch Time: 0m 0s\n",
            "\tTrain Loss: 0.142 | Train Acc: 92.71%\n",
            "\t Val. Loss: 0.648 |  Val. Acc: 79.97%\n",
            "Epoch: 40 | Epoch Time: 0m 0s\n",
            "\tTrain Loss: 0.141 | Train Acc: 92.79%\n",
            "\t Val. Loss: 0.653 |  Val. Acc: 80.46%\n",
            "Epoch: 41 | Epoch Time: 0m 0s\n",
            "\tTrain Loss: 0.140 | Train Acc: 93.05%\n",
            "\t Val. Loss: 0.658 |  Val. Acc: 80.72%\n",
            "Epoch: 42 | Epoch Time: 0m 0s\n",
            "\tTrain Loss: 0.140 | Train Acc: 92.95%\n",
            "\t Val. Loss: 0.663 |  Val. Acc: 80.09%\n",
            "Epoch: 43 | Epoch Time: 0m 0s\n",
            "\tTrain Loss: 0.139 | Train Acc: 92.92%\n",
            "\t Val. Loss: 0.669 |  Val. Acc: 80.46%\n",
            "Epoch: 44 | Epoch Time: 0m 0s\n",
            "\tTrain Loss: 0.138 | Train Acc: 92.97%\n",
            "\t Val. Loss: 0.675 |  Val. Acc: 80.61%\n",
            "Epoch: 45 | Epoch Time: 0m 0s\n",
            "\tTrain Loss: 0.137 | Train Acc: 92.87%\n",
            "\t Val. Loss: 0.681 |  Val. Acc: 80.12%\n",
            "Epoch: 46 | Epoch Time: 0m 0s\n",
            "\tTrain Loss: 0.136 | Train Acc: 92.83%\n",
            "\t Val. Loss: 0.686 |  Val. Acc: 80.50%\n",
            "Epoch: 47 | Epoch Time: 0m 0s\n",
            "\tTrain Loss: 0.136 | Train Acc: 92.94%\n",
            "\t Val. Loss: 0.692 |  Val. Acc: 80.46%\n",
            "Epoch: 48 | Epoch Time: 0m 0s\n",
            "\tTrain Loss: 0.136 | Train Acc: 92.88%\n",
            "\t Val. Loss: 0.696 |  Val. Acc: 80.50%\n",
            "Epoch: 49 | Epoch Time: 0m 0s\n",
            "\tTrain Loss: 0.135 | Train Acc: 92.88%\n",
            "\t Val. Loss: 0.701 |  Val. Acc: 80.46%\n",
            "Epoch: 50 | Epoch Time: 0m 0s\n",
            "\tTrain Loss: 0.135 | Train Acc: 92.68%\n",
            "\t Val. Loss: 0.707 |  Val. Acc: 80.50%\n"
          ],
          "name": "stdout"
        }
      ]
    },
    {
      "cell_type": "code",
      "metadata": {
        "id": "iylsFqwAP5d-",
        "colab": {
          "base_uri": "https://localhost:8080/"
        },
        "outputId": "0d8d39af-f7fe-4650-fcd8-44f562bee4b8"
      },
      "source": [
        "model.load_state_dict(torch.load(name_model))\n",
        "\n",
        "test_loss, test_acc = evaluate(model, test_iterator, criterion)\n",
        "\n",
        "print(f'Test Loss: {test_loss:.3f} | Test Acc: {test_acc*100:.2f}%')"
      ],
      "execution_count": null,
      "outputs": [
        {
          "output_type": "stream",
          "text": [
            "Test Loss: 0.565 | Test Acc: 78.23%\n"
          ],
          "name": "stdout"
        }
      ]
    },
    {
      "cell_type": "code",
      "metadata": {
        "colab": {
          "base_uri": "https://localhost:8080/",
          "height": 281
        },
        "id": "PVbETZhaClc3",
        "outputId": "2612294b-e225-462e-ed5d-aa1a1aa9f173"
      },
      "source": [
        "generatePlot(train_list,valid_list, \"FAST-RNN\")"
      ],
      "execution_count": null,
      "outputs": [
        {
          "output_type": "display_data",
          "data": {
            "image/png": "[encoded data removed]",
            "text/plain": [
              "<Figure size 432x288 with 1 Axes>"
            ]
          },
          "metadata": {
            "tags": [],
            "needs_background": "light"
          }
        }
      ]
    },
    {
      "cell_type": "code",
      "metadata": {
        "colab": {
          "base_uri": "https://localhost:8080/"
        },
        "id": "ZWbrgsTudubf",
        "outputId": "275cea89-087f-4f38-bab7-405b8db1a3d3"
      },
      "source": [
        "report(model, test_iterator)"
      ],
      "execution_count": null,
      "outputs": [
        {
          "output_type": "stream",
          "text": [
            "              precision    recall  f1-score   support\n",
            "\n",
            "           0       0.64      0.70      0.67       375\n",
            "           1       0.46      0.47      0.46       262\n",
            "           2       0.41      0.31      0.35       150\n",
            "\n",
            "    accuracy                           0.55       787\n",
            "   macro avg       0.50      0.49      0.49       787\n",
            "weighted avg       0.54      0.55      0.54       787\n",
            "\n"
          ],
          "name": "stdout"
        }
      ]
    }
  ]
}